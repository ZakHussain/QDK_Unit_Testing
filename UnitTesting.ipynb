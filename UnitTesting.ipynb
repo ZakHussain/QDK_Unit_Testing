{
 "cells": [
  {
   "cell_type": "markdown",
   "metadata": {},
   "source": [
    "# Unit Testing\n",
    "**Author: Zak Hussain**  \n",
    "**Date: 4/16/2019**\n",
    "\n",
    "This tutorial introduces you to building blocks for unit testing in Q#. Diagnosing errors and understanding the expected outcome of your code is as true in quantum computing as it is in classical computing. \n",
    "\n",
    "In this notebook, you will see how the Q# language and built-in libraries allow you to build/use operations and functions to test your code.\n",
    "\n",
    "Before starting this tutorial, I recommend you complete the following notebooks:  \n",
    "* [Introduction to the Qubit](../../Qubit/Qubit.ipynb)\n",
    "* [Single Qubit Gates](../../SingleQubitGates/SingleQubitGates.ipynb) \n",
    "* [Multiqubit Gystems](../../MultiQubitSystems/MultiQubitSystems.ipynb)\n",
    "* [Multiqubit Gates](../../MultiQubitGates/MultiQubitGates.ipynb)\n",
    "\n",
    "For each topic, I will link you to additional readings found in the microsoft QDK docs. I will also state what you should take away from the assigned reading. \n",
    "\n",
    "Given that you've completed the four tutorials above, you should understand how gates are used to manipulate qubit registers. Now we can focus on the important building blocks of writing unit tests.\n",
    "\n",
    "We will cover the following: \n",
    "\n",
    "* Operations and functions \n",
    "* Using the diagnostics namespace \n",
    "* Testing with dump functions, facts, assertions\n",
    "\n",
    "At the end of the notebook, there are exercises in building unit tests. they will start relatively simple (given you understand the fundamentals of Q#) and gradually get more difficult. Spend at least 20 minutes on each problem before looking at the answers. \n",
    "\n",
    "For your use, here is a cheatsheet for Q# [this cheatsheet](https://github.com/microsoft/QuantumKatas/blob/master/quickref/qsharp-quick-reference.pdf)."
   ]
  },
  {
   "cell_type": "markdown",
   "metadata": {},
   "source": [
    "To begin, first prepare this notebook for execution (if you skip this step, you'll get \"Syntax does not match any known patterns\" error when you try to execute Q# code in the exercises):"
   ]
  },
  {
   "cell_type": "code",
   "execution_count": 1,
   "metadata": {},
   "outputs": [
    {
     "data": {
      "application/json": "[\"Microsoft.Quantum.Standard::0.10.1911.1607\",\"Microsoft.Quantum.Katas::0.10.1911.1607\"]",
      "text/html": [
       "<ul><li>Microsoft.Quantum.Standard::0.10.1911.1607</li><li>Microsoft.Quantum.Katas::0.10.1911.1607</li></ul>"
      ],
      "text/plain": [
       "Microsoft.Quantum.Standard::0.10.1911.1607, Microsoft.Quantum.Katas::0.10.1911.1607"
      ]
     },
     "execution_count": 1,
     "metadata": {},
     "output_type": "execute_result"
    }
   ],
   "source": [
    "%package Microsoft.Quantum.Katas::0.10.1911.1607"
   ]
  },
  {
   "cell_type": "markdown",
   "metadata": {},
   "source": [
    "> The package versions in the output of the cell above should always match. If you are running the Notebooks locally and the versions do not match, please install the IQ# version that matches the version of the `Microsoft.Quantum.Katas` package.\n",
    "> <details>\n",
    "> <summary><u>How to install the right IQ# version</u></summary>\n",
    "> For example, if the version of `Microsoft.Quantum.Katas` package above is 0.1.2.3, the installation steps are as follows:\n",
    ">\n",
    "> 1. Stop the kernel.\n",
    "> 2. Uninstall the existing version of IQ#:\n",
    ">        dotnet tool uninstall microsoft.quantum.iqsharp -g\n",
    "> 3. Install the matching version:\n",
    ">        dotnet tool install microsoft.quantum.iqsharp -g --version 0.1.2.3\n",
    "> 4. Reinstall the kernel:\n",
    ">        dotnet iqsharp install\n",
    "> 5. Restart the Notebook.\n",
    "> </details>\n"
   ]
  },
  {
   "cell_type": "markdown",
   "metadata": {},
   "source": [
    "### Operations and Functions  \n",
    "\n",
    "For this section, access this [article](https://docs.microsoft.com/en-us/quantum/techniques/operations-and-functions) and read the following sections:  \n",
    "* Defining New Operations\n",
    "* Defining New Functions\n",
    "\n",
    "From the sections above, you should answer the following:  \n",
    "* What is an operation? \n",
    "* What is a function used for in Q#? \n",
    "* how does an operation differ from a function? \n",
    "* Why is Q# called a \"tuple-in-tuple-out\" langauge?  "
   ]
  },
  {
   "cell_type": "markdown",
   "metadata": {},
   "source": [
    "As described in the reading, **operations** are used to carry out manipulations to quantum information; whereas, **Functions** are used solely for classical computation. \n",
    "\n",
    "Your Q# programs will largely consist of operations that act on qubit registers. Operations are composed of other operations and can call functions. It is important to note that functions do not act on qubits and cannot call operations. They are used for computing classical values (e.g., 1+1, 2x2). Later, we will see that functions have a characteristic that make them useful for embedding assertions into Q# programs.   "
   ]
  },
  {
   "cell_type": "markdown",
   "metadata": {},
   "source": [
    "Let's look at an example operation. We will use the BitFlip operation, from the \"Defining New Operations\" section of the reading, to observe how we can construct a unit test operation. "
   ]
  },
  {
   "cell_type": "markdown",
   "metadata": {},
   "source": [
    "### <span style=\"color:blue\">Example 1</span>: The BitFlip Operation\n",
    "\n",
    "**Input:** A qubit in an arbitrary state $|\\psi\\rangle = \\alpha|0\\rangle + \\beta|1\\rangle$.\n",
    "\n",
    "**Goal:** Apply the $X$ gate to the qubit (i.e., transform the given state into $|1\\rangle$ if the target qubit starts in the $|0\\rangle$ state and vice versa)."
   ]
  },
  {
   "cell_type": "code",
   "execution_count": 4,
   "metadata": {},
   "outputs": [
    {
     "data": {
      "application/json": "[\"BitFlip\"]",
      "text/html": [
       "<ul><li>BitFlip</li></ul>"
      ],
      "text/plain": [
       "BitFlip"
      ]
     },
     "execution_count": 4,
     "metadata": {},
     "output_type": "execute_result"
    }
   ],
   "source": [
    "operation BitFlip(target : Qubit) : Unit {\n",
    "    X(target); \n",
    "}"
   ]
  },
  {
   "cell_type": "markdown",
   "metadata": {},
   "source": [
    "As we see above, the BitFlip operation flips the state of an input qubit. This operation's output is the empty tuple (), as defined by the output type *Unit*. The body of our code calls the built-in Q# operation [X](https://docs.microsoft.com/en-us/qsharp/api/qsharp/microsoft.quantum.intrinsic.x), which flips our target qubit.\n",
    "\n",
    "Testing this BitFlip operation requires us to do the following:  \n",
    "1. Define an test operation that will call the BitFlip operation.\n",
    "2. Allocate a qubit to store our quantum state. \n",
    "3. Check that our BitFlip manipulates our quantum state correctly. \n",
    "\n",
    "To accomplish step 2, we can use the [*Assert*](https://docs.microsoft.com/en-us/qsharp/api/qsharp/microsoft.quantum.intrinsic.assert) or [*AssertProb*](https://docs.microsoft.com/en-us/qsharp/api/qsharp/microsoft.quantum.intrinsic.assertprob) operation found in the [Intrinsic](https://docs.microsoft.com/en-us/qsharp/api/qsharp/microsoft.quantum.intrinsic) namespace. In addition, using those two operations requires us to run [*Pauli measurements*](https://docs.microsoft.com/en-us/quantum/concepts/pauli-measurements) (e.g., PauliX, PauliZ) as demonstrated in the code blocks below. "
   ]
  },
  {
   "cell_type": "code",
   "execution_count": 88,
   "metadata": {},
   "outputs": [
    {
     "data": {
      "application/json": "[\"TestBitFlipUsingAssert\"]",
      "text/html": [
       "<ul><li>TestBitFlipUsingAssert</li></ul>"
      ],
      "text/plain": [
       "TestBitFlipUsingAssert"
      ]
     },
     "execution_count": 88,
     "metadata": {},
     "output_type": "execute_result"
    }
   ],
   "source": [
    "// run this code block, then excecute this operation by running the cell below.\n",
    "operation TestBitFlipUsingAssert () : Unit {\n",
    "    // allocate a qubit in the |0> state.\n",
    "    using (qubit = Qubit()) \n",
    "    {   \n",
    "        // flip the qubit from the |0> state to the |1> state\n",
    "        BitFlip(qubit); \n",
    "        \n",
    "        // ensure that the qubit results in the One state, given the effect of the PauliZ measurment.\n",
    "        // TODO: after you successfuly simulated this operation by running the cell below, try changing the One to Zero.\n",
    "        Assert([PauliZ], [qubit], One, \"The qubit did not result in the One state given the PauliZ effect.\"); \n",
    "        \n",
    "        // Release the qubit\n",
    "        Reset(qubit); \n",
    "    }\n",
    "}"
   ]
  },
  {
   "cell_type": "code",
   "execution_count": 89,
   "metadata": {},
   "outputs": [
    {
     "data": {
      "application/json": "{\"@type\":\"tuple\"}",
      "text/plain": [
       "()"
      ]
     },
     "execution_count": 89,
     "metadata": {},
     "output_type": "execute_result"
    }
   ],
   "source": [
    "%simulate TestBitFlipUsingAssert"
   ]
  },
  {
   "cell_type": "markdown",
   "metadata": {},
   "source": [
    "Notice that we get an empty tuple after running the simulation cell above. This is good! it means our test passed. We are using an Assert that applies the PauliZ measurement effect on the qubit and the expected result is the |1> state. \n",
    "\n",
    "Now, go back to the Assert operation and try changing the One result to a Zero as marked in the TODO comment. After you execute the simulate cell, you should now see an error message! \n",
    "\n",
    "Let's answer the question of how our Assert operation is being used in Q#. We pass in a Pauli operator that describes a measurment of interest, the quantum register which we perform the measurement, the hypothetical outcome, and an error message. Since we are executing our code in simulation, the measurement we perform does not manipulate our register; however, if the assertion fails, the excecution raises a *fail* alongside our error message. \n",
    "\n",
    "We will see that an example of an assertion not manipulating our register in the following example. Also, we will summarize the basic effect of using the Pauli measurments available."
   ]
  },
  {
   "cell_type": "markdown",
   "metadata": {},
   "source": [
    "### <span style=\"color:blue\">Example 1</span>: The H Gate\n",
    "\n",
    "**Input:** A qubit in an arbitrary state $|\\psi\\rangle = \\alpha|0\\rangle + \\beta|1\\rangle$.\n",
    "\n",
    "**Goal:** Apply the $H$ gate to the qubit (i.e., create a superposition)"
   ]
  },
  {
   "cell_type": "code",
   "execution_count": 114,
   "metadata": {},
   "outputs": [
    {
     "data": {
      "application/json": "[\"CreateSuperposition\"]",
      "text/html": [
       "<ul><li>CreateSuperposition</li></ul>"
      ],
      "text/plain": [
       "CreateSuperposition"
      ]
     },
     "execution_count": 114,
     "metadata": {},
     "output_type": "execute_result"
    }
   ],
   "source": [
    "operation CreateSuperposition (q: Qubit) : Unit {\n",
    "        // place the qubit in superposition, (|0> + |1>)/sqrt(2). \n",
    "        H(q); \n",
    "}"
   ]
  },
  {
   "cell_type": "code",
   "execution_count": 121,
   "metadata": {},
   "outputs": [
    {
     "data": {
      "application/json": "[\"TestSuperpositionUsingAssertProb\"]",
      "text/html": [
       "<ul><li>TestSuperpositionUsingAssertProb</li></ul>"
      ],
      "text/plain": [
       "TestSuperpositionUsingAssertProb"
      ]
     },
     "execution_count": 121,
     "metadata": {},
     "output_type": "execute_result"
    }
   ],
   "source": [
    "operation TestSuperpositionUsingAssertProb () : Unit {\n",
    "    using (qubit = Qubit()) \n",
    "    {\n",
    "        // place qubit in superposition. \n",
    "        CreateSuperposition(qubit); \n",
    "        \n",
    "        // assert that the PauliX effect on the qubit in superposition will result in the |0> state with a \n",
    "        // probability success of 1.0 within a 0.0 tolerance.\n",
    "        AssertProb([PauliX], [qubit], Zero, 1.0, \"The qubit does not result in the Zero state given the PauliX effect.\", 0.0);\n",
    "        Reset(qubit); \n",
    "    }\n",
    "}"
   ]
  },
  {
   "cell_type": "code",
   "execution_count": 122,
   "metadata": {},
   "outputs": [
    {
     "data": {
      "application/json": "{\"@type\":\"tuple\"}",
      "text/plain": [
       "()"
      ]
     },
     "execution_count": 122,
     "metadata": {},
     "output_type": "execute_result"
    }
   ],
   "source": [
    "%simulate TestSuperpositionUsingAssertProb"
   ]
  },
  {
   "cell_type": "code",
   "execution_count": 134,
   "metadata": {},
   "outputs": [
    {
     "data": {
      "application/json": "[\"DumpSuperpositionUsingAssertProb\"]",
      "text/html": [
       "<ul><li>DumpSuperpositionUsingAssertProb</li></ul>"
      ],
      "text/plain": [
       "DumpSuperpositionUsingAssertProb"
      ]
     },
     "execution_count": 134,
     "metadata": {},
     "output_type": "execute_result"
    }
   ],
   "source": [
    "// open the diagnositcs namespace in this cell to access the DumpMachine\n",
    "open Microsoft.Quantum.Diagnostics; \n",
    "\n",
    "operation DumpSuperpositionUsingAssertProb () : Unit {\n",
    "    using (qubit = Qubit()) \n",
    "    {\n",
    "        // place qubit in superposition. \n",
    "        CreateSuperposition(qubit);  \n",
    "        \n",
    "        // assert that the PauliX effect on the qubit in superposition will result in the |0> state with a \n",
    "        // probability success of 1.0 within a 0.0 tolerance.\n",
    "        AssertProb([PauliX], [qubit], Zero, 1.0, \"The qubit does not result in the Zero state given the PauliX effect.\", 0.0);\n",
    "        \n",
    "        // Use DumpMachine to look at the state of \n",
    "        DumpMachine(); \n",
    "        Reset(qubit); \n",
    "    }\n",
    "}"
   ]
  },
  {
   "cell_type": "code",
   "execution_count": 135,
   "metadata": {},
   "outputs": [
    {
     "name": "stdout",
     "output_type": "stream",
     "text": [
      "# wave function for qubits with ids (least to most significant): 0\n",
      "∣0❭:\t 0.707107 +  0.000000 i\t == \t***********          [ 0.500000 ]     --- [  0.00000 rad ]\n",
      "∣1❭:\t 0.707107 +  0.000000 i\t == \t***********          [ 0.500000 ]     --- [  0.00000 rad ]\n"
     ]
    },
    {
     "data": {
      "application/json": "{\"@type\":\"tuple\"}",
      "text/plain": [
       "()"
      ]
     },
     "execution_count": 135,
     "metadata": {},
     "output_type": "execute_result"
    }
   ],
   "source": [
    "%simulate DumpSuperpositionUsingAssertProb"
   ]
  },
  {
   "cell_type": "markdown",
   "metadata": {},
   "source": [
    "Next lets look at further assertion operations and functions we have available to us in the Diagnostics namespace. "
   ]
  },
  {
   "cell_type": "code",
   "execution_count": null,
   "metadata": {},
   "outputs": [],
   "source": []
  },
  {
   "cell_type": "markdown",
   "metadata": {},
   "source": [
    "## Exercises\n",
    "\n",
    "The following exercises are designed to test your understanding of the concepts you've learned so far. \n",
    "In each exercise your task is to implement an operation that applies a particular transformation to a qubit. \n",
    "Unlike the demos you have seen so far, you don't have to allocate the qubit or to put it into a certain initial state - the qubit is already allocated, prepared in some state and provided to you as an input to the operation.\n",
    "\n",
    "### <span style=\"color:blue\">Exercise 1</span>: The $Y$ gate\n",
    "\n",
    "**Input:** A qubit in an arbitrary state $|\\psi\\rangle = \\alpha|0\\rangle + \\beta|1\\rangle$.\n",
    "\n",
    "**Goal:** Apply the $Y$ gate to the qubit, i.e., transform the given state into $i\\alpha|1\\rangle - i\\beta|0\\rangle$."
   ]
  },
  {
   "cell_type": "code",
   "execution_count": 3,
   "metadata": {},
   "outputs": [
    {
     "data": {
      "application/json": "\"Success!\"",
      "text/plain": [
       "Success!"
      ]
     },
     "execution_count": 3,
     "metadata": {},
     "output_type": "execute_result"
    }
   ],
   "source": [
    "%kata T1_ApplyY_Test\n",
    "open Microsoft.Quantum.Diagnostics;\n",
    "\n",
    "operation ApplyY(q : Qubit) : Unit is Adj+Ctl {\n",
    "    Y(q); \n",
    "}"
   ]
  },
  {
   "cell_type": "markdown",
   "metadata": {},
   "source": [
    "## Conclusion\n",
    "\n",
    "Congratulations! You have learned enough to try solving the first part of the [Basic Gates kata](../../BasicGates/BasicGates.ipynb). \n",
    "When you are done with that, you can continue to the next tutorials in the series to learn about the [multi-qubit systems](../MultiQubitSystems/MultiQubitSystems.ipynb) and the [multi-qubit gates](../MultiQubitGates/MultiQubitGates.ipynb)."
   ]
  }
 ],
 "metadata": {
  "kernelspec": {
   "display_name": "Q#",
   "language": "qsharp",
   "name": "iqsharp"
  },
  "language_info": {
   "file_extension": ".qs",
   "mimetype": "text/x-qsharp",
   "name": "qsharp",
   "version": "0.4"
  }
 },
 "nbformat": 4,
 "nbformat_minor": 2
}
