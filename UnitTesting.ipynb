{
 "cells": [
  {
   "cell_type": "markdown",
   "metadata": {},
   "source": [
    "# Unit Testing and Debugging\n",
    "**Author: Zak Hussain**  \n",
    "**Date: 4/16/2019**\n",
    "\n",
    "This tutorial introduces you to building blocks for unit testing in Q#. Diagnosing errors and understanding the expected outcome of your code is as true in quantum computing as it is in classical computing. \n",
    "\n",
    "In this notebook, you will see how the Q# language and built-in libraries allow you to build/use operations and functions to test your code.\n",
    "\n",
    "Before starting this tutorial, I recommend you complete the following notebooks:  \n",
    "* [Introduction to the Qubit](../../Qubit/Qubit.ipynb)\n",
    "* [Single Qubit Gates](../../SingleQubitGates/SingleQubitGates.ipynb) \n",
    "* [Multiqubit Gystems](../../MultiQubitSystems/MultiQubitSystems.ipynb)\n",
    "* [Multiqubit Gates](../../MultiQubitGates/MultiQubitGates.ipynb)\n",
    "\n",
    "For each topic, I will link you to additional readings found in the microsoft QDK docs. I will also state what you should take away from the assigned reading. \n",
    "\n",
    "Given that you've completed the four tutorials above, you should understand how gates are used to manipulate qubit registers. Now we can focus on the important building blocks of writing unit tests.\n",
    "\n",
    "We will cover the following: \n",
    "\n",
    "* Operations and functions \n",
    "* Using the diagnostics namespace \n",
    "* Raising errors using fail and facts\n",
    "* Dump Functions\n",
    "\n",
    "At the end of the notebook, there are exercises in building unit tests. they will start relatively simple (given you understand the fundamentals of Q#) and gradually get more difficult. Spend at least 20 minutes on each problem before looking at the answers. \n",
    "\n",
    "For your use, here is a cheatsheet for Q# [this cheatsheet](https://github.com/microsoft/QuantumKatas/blob/master/quickref/qsharp-quick-reference.pdf)."
   ]
  },
  {
   "cell_type": "markdown",
   "metadata": {},
   "source": [
    "To begin, first prepare this notebook for execution (if you skip this step, you'll get \"Syntax does not match any known patterns\" error when you try to execute Q# code in the exercises):"
   ]
  },
  {
   "cell_type": "code",
   "execution_count": 1,
   "metadata": {},
   "outputs": [
    {
     "data": {
      "application/json": "[\"Microsoft.Quantum.Standard::0.10.1911.1607\",\"Microsoft.Quantum.Katas::0.10.1911.1607\"]",
      "text/html": [
       "<ul><li>Microsoft.Quantum.Standard::0.10.1911.1607</li><li>Microsoft.Quantum.Katas::0.10.1911.1607</li></ul>"
      ],
      "text/plain": [
       "Microsoft.Quantum.Standard::0.10.1911.1607, Microsoft.Quantum.Katas::0.10.1911.1607"
      ]
     },
     "execution_count": 1,
     "metadata": {},
     "output_type": "execute_result"
    }
   ],
   "source": [
    "%package Microsoft.Quantum.Katas::0.10.1911.1607"
   ]
  },
  {
   "cell_type": "markdown",
   "metadata": {},
   "source": [
    "> The package versions in the output of the cell above should always match. If you are running the Notebooks locally and the versions do not match, please install the IQ# version that matches the version of the `Microsoft.Quantum.Katas` package.\n",
    "> <details>\n",
    "> <summary><u>How to install the right IQ# version</u></summary>\n",
    "> For example, if the version of `Microsoft.Quantum.Katas` package above is 0.1.2.3, the installation steps are as follows:\n",
    ">\n",
    "> 1. Stop the kernel.\n",
    "> 2. Uninstall the existing version of IQ#:\n",
    ">        dotnet tool uninstall microsoft.quantum.iqsharp -g\n",
    "> 3. Install the matching version:\n",
    ">        dotnet tool install microsoft.quantum.iqsharp -g --version 0.1.2.3\n",
    "> 4. Reinstall the kernel:\n",
    ">        dotnet iqsharp install\n",
    "> 5. Restart the Notebook.\n",
    "> </details>\n"
   ]
  },
  {
   "cell_type": "markdown",
   "metadata": {},
   "source": [
    "### Operations and Functions  \n",
    "\n",
    "For this section, access this [article](https://docs.microsoft.com/en-us/quantum/techniques/operations-and-functions) and read the following sections:  \n",
    "* Defining New Operations\n",
    "* Defining New Functions\n",
    "\n",
    "From the sections above, you should answer the following:  \n",
    "* What is an operation? \n",
    "* What is a function used for in Q#? \n",
    "* how does an operation differ from a function? \n",
    "* Why is Q# called a \"tuple-in-tuple-out\" langauge?  "
   ]
  },
  {
   "cell_type": "markdown",
   "metadata": {},
   "source": [
    "As described in the reading, **operations** are used to carry out manipulations to quantum information; whereas, **Functions** are used solely for classical computation. \n",
    "\n",
    "Your Q# programs will largely consist of operations that act on qubit registers. Operations are composed of other operations and can call functions. It is important to note that functions do not act on qubits and cannot call operations. They are used for computing classical values (e.g., 1+1, 2x2). Later, we will see that functions have a characteristic that make them useful for embedding assertions into Q# programs.   "
   ]
  },
  {
   "cell_type": "markdown",
   "metadata": {},
   "source": [
    "Let's look at an example operation. We will use the BitFlip operation, from the \"Defining New Operations\" section of the reading, to observe how we can construct a unit test operation. "
   ]
  },
  {
   "cell_type": "markdown",
   "metadata": {},
   "source": [
    "### <span style=\"color:blue\">Example 1</span>: The BitFlip Operation\n",
    "\n",
    "**Input:** A qubit in an arbitrary state $|\\psi\\rangle = \\alpha|0\\rangle + \\beta|1\\rangle$.\n",
    "\n",
    "**Goal:** Apply the $X$ gate to the qubit (i.e., transform the given state into $|1\\rangle$ if the target qubit starts in the $|0\\rangle$ state and vice versa)."
   ]
  },
  {
   "cell_type": "code",
   "execution_count": 4,
   "metadata": {},
   "outputs": [
    {
     "data": {
      "application/json": "[\"BitFlip\"]",
      "text/html": [
       "<ul><li>BitFlip</li></ul>"
      ],
      "text/plain": [
       "BitFlip"
      ]
     },
     "execution_count": 4,
     "metadata": {},
     "output_type": "execute_result"
    }
   ],
   "source": [
    "operation BitFlip(target : Qubit) : Unit {\n",
    "    X(target); \n",
    "}"
   ]
  },
  {
   "cell_type": "markdown",
   "metadata": {},
   "source": [
    "As we see above, the BitFlip operation flips the state of an input qubit. This operation's output is the empty tuple (), as defined by the output type *Unit*. The body of our code calls the built-in Q# operation [X](https://docs.microsoft.com/en-us/qsharp/api/qsharp/microsoft.quantum.intrinsic.x), which flips our target qubit.\n",
    "\n",
    "Testing this BitFlip operation requires us to do the following:  \n",
    "1. Define an test operation that will call the BitFlip operation.\n",
    "2. Allocate a qubit to store our quantum state. \n",
    "3. Check that our BitFlip manipulates our quantum state correctly. \n",
    "\n",
    "To accomplish step 2, we can use the [*Assert*](https://docs.microsoft.com/en-us/qsharp/api/qsharp/microsoft.quantum.intrinsic.assert) or [*AssertProb*](https://docs.microsoft.com/en-us/qsharp/api/qsharp/microsoft.quantum.intrinsic.assertprob) operation found in the [Intrinsic](https://docs.microsoft.com/en-us/qsharp/api/qsharp/microsoft.quantum.intrinsic) namespace. In addition, using those two operations requires us to run [*Pauli measurements*](https://docs.microsoft.com/en-us/quantum/concepts/pauli-measurements) (e.g., PauliX, PauliZ) as demonstrated in the code blocks below. "
   ]
  },
  {
   "cell_type": "code",
   "execution_count": 88,
   "metadata": {},
   "outputs": [
    {
     "data": {
      "application/json": "[\"TestBitFlipUsingAssert\"]",
      "text/html": [
       "<ul><li>TestBitFlipUsingAssert</li></ul>"
      ],
      "text/plain": [
       "TestBitFlipUsingAssert"
      ]
     },
     "execution_count": 88,
     "metadata": {},
     "output_type": "execute_result"
    }
   ],
   "source": [
    "// run this code block, then excecute this operation by running the cell below.\n",
    "operation TestBitFlipUsingAssert () : Unit {\n",
    "    // allocate a qubit in the |0> state.\n",
    "    using (qubit = Qubit()) \n",
    "    {   \n",
    "        // flip the qubit from the |0> state to the |1> state\n",
    "        BitFlip(qubit); \n",
    "        \n",
    "        // ensure that the qubit results in the One state, given the effect of the PauliZ measurment.\n",
    "        // TODO: after you successfuly simulated this operation by running the cell below, try changing the One to Zero.\n",
    "        Assert([PauliZ], [qubit], One, \"The qubit did not result in the One state given the PauliZ effect.\"); \n",
    "        \n",
    "        // Release the qubit\n",
    "        Reset(qubit); \n",
    "    }\n",
    "}"
   ]
  },
  {
   "cell_type": "code",
   "execution_count": 89,
   "metadata": {},
   "outputs": [
    {
     "data": {
      "application/json": "{\"@type\":\"tuple\"}",
      "text/plain": [
       "()"
      ]
     },
     "execution_count": 89,
     "metadata": {},
     "output_type": "execute_result"
    }
   ],
   "source": [
    "%simulate TestBitFlipUsingAssert"
   ]
  },
  {
   "cell_type": "markdown",
   "metadata": {},
   "source": [
    "Notice that we get an empty tuple after running the simulation cell above. This is good! it means our test passed. We are using an Assert that applies the PauliZ measurement effect on the qubit and the expected result is the |1> state. \n",
    "\n",
    "Now, go back to the Assert operation and try changing the One result to a Zero as marked in the TODO comment. After you execute the simulate cell, you should now see an error message! \n",
    "\n",
    "Let's answer the question of how our Assert operation is being used in Q#. We pass in a Pauli operator that describes a measurment of interest, the quantum register which we perform the measurement, the hypothetical outcome, and an error message. Since we are executing our code in simulation, the measurement we perform does not manipulate our register; however, if the assertion fails, the excecution raises a *fail* alongside our error message. \n",
    "\n",
    "We will see an operation clearly showing that assertions do not manipulating our register in Example 2. Also, we will summarize the basic effect of using the Pauli measurements available."
   ]
  },
  {
   "cell_type": "markdown",
   "metadata": {},
   "source": [
    "### <span style=\"color:blue\">Example 2</span>: The H Gate\n",
    "\n",
    "**Input:** A qubit in an arbitrary state $|\\psi\\rangle = \\alpha|0\\rangle + \\beta|1\\rangle$.\n",
    "\n",
    "**Goal:** Apply the $H$ gate to the qubit (i.e., create a superposition)"
   ]
  },
  {
   "cell_type": "code",
   "execution_count": 114,
   "metadata": {},
   "outputs": [
    {
     "data": {
      "application/json": "[\"CreateSuperposition\"]",
      "text/html": [
       "<ul><li>CreateSuperposition</li></ul>"
      ],
      "text/plain": [
       "CreateSuperposition"
      ]
     },
     "execution_count": 114,
     "metadata": {},
     "output_type": "execute_result"
    }
   ],
   "source": [
    "operation CreateSuperposition (q: Qubit) : Unit {\n",
    "        // place the qubit in superposition, (|0> + |1>)/sqrt(2). \n",
    "        H(q); \n",
    "}"
   ]
  },
  {
   "cell_type": "code",
   "execution_count": 121,
   "metadata": {},
   "outputs": [
    {
     "data": {
      "application/json": "[\"TestSuperpositionUsingAssertProb\"]",
      "text/html": [
       "<ul><li>TestSuperpositionUsingAssertProb</li></ul>"
      ],
      "text/plain": [
       "TestSuperpositionUsingAssertProb"
      ]
     },
     "execution_count": 121,
     "metadata": {},
     "output_type": "execute_result"
    }
   ],
   "source": [
    "operation TestSuperpositionUsingAssertProb () : Unit {\n",
    "    using (qubit = Qubit()) {\n",
    "        // place qubit in superposition. \n",
    "        CreateSuperposition(qubit); \n",
    "        \n",
    "        // assert that the PauliX effect on the qubit in superposition will result in the |0> state with a \n",
    "        // probability success of 1.0 within a 0.0 tolerance.\n",
    "        AssertProb([PauliX], [qubit], Zero, 1.0, \"The qubit does not result in the Zero state given the PauliX effect.\", 0.0);\n",
    "        Reset(qubit); \n",
    "    }\n",
    "}"
   ]
  },
  {
   "cell_type": "code",
   "execution_count": 1,
   "metadata": {},
   "outputs": [
    {
     "name": "stderr",
     "output_type": "stream",
     "text": [
      "The given key was not present in the dictionary.\n"
     ]
    }
   ],
   "source": [
    "// todo, create an exercise question using the assert prob that will raise an error if One, 0.0 is used as the probability succes "
   ]
  },
  {
   "cell_type": "code",
   "execution_count": 122,
   "metadata": {},
   "outputs": [
    {
     "data": {
      "application/json": "{\"@type\":\"tuple\"}",
      "text/plain": [
       "()"
      ]
     },
     "execution_count": 122,
     "metadata": {},
     "output_type": "execute_result"
    }
   ],
   "source": [
    "%simulate TestSuperpositionUsingAssertProb"
   ]
  },
  {
   "cell_type": "code",
   "execution_count": 134,
   "metadata": {},
   "outputs": [
    {
     "data": {
      "application/json": "[\"DumpSuperpositionUsingAssertProb\"]",
      "text/html": [
       "<ul><li>DumpSuperpositionUsingAssertProb</li></ul>"
      ],
      "text/plain": [
       "DumpSuperpositionUsingAssertProb"
      ]
     },
     "execution_count": 134,
     "metadata": {},
     "output_type": "execute_result"
    }
   ],
   "source": [
    "// open the diagnositcs namespace in this cell to access the DumpMachine\n",
    "open Microsoft.Quantum.Diagnostics; \n",
    "\n",
    "operation DumpSuperpositionUsingAssertProb () : Unit {\n",
    "    using (qubit = Qubit()) {\n",
    "        // place qubit in superposition. \n",
    "        CreateSuperposition(qubit);  \n",
    "        \n",
    "        // assert that the PauliX effect on the qubit in superposition will result in the |0> state with a \n",
    "        // probability success of 1.0 within a 0.0 tolerance.\n",
    "        AssertProb([PauliX], [qubit], Zero, 1.0, \"The qubit does not result in the Zero state given the PauliX effect.\", 0.0);\n",
    "        \n",
    "        // Use DumpMachine to look at the state of our entire system \n",
    "        DumpMachine(); \n",
    "        Reset(qubit); \n",
    "    }\n",
    "}"
   ]
  },
  {
   "cell_type": "code",
   "execution_count": 135,
   "metadata": {},
   "outputs": [
    {
     "name": "stdout",
     "output_type": "stream",
     "text": [
      "# wave function for qubits with ids (least to most significant): 0\n",
      "∣0❭:\t 0.707107 +  0.000000 i\t == \t***********          [ 0.500000 ]     --- [  0.00000 rad ]\n",
      "∣1❭:\t 0.707107 +  0.000000 i\t == \t***********          [ 0.500000 ]     --- [  0.00000 rad ]\n"
     ]
    },
    {
     "data": {
      "application/json": "{\"@type\":\"tuple\"}",
      "text/plain": [
       "()"
      ]
     },
     "execution_count": 135,
     "metadata": {},
     "output_type": "execute_result"
    }
   ],
   "source": [
    "%simulate DumpSuperpositionUsingAssertProb"
   ]
  },
  {
   "cell_type": "markdown",
   "metadata": {},
   "source": [
    "### TODO: summarize the Pauli Measurments \n",
    "\n",
    "further reading can be found [here](https://docs.microsoft.com/en-us/quantum/concepts/pauli-measurements)."
   ]
  },
  {
   "cell_type": "markdown",
   "metadata": {},
   "source": [
    "Now, lets look at further assertion operations and functions we have available to us in the Diagnostics namespace. "
   ]
  },
  {
   "cell_type": "markdown",
   "metadata": {},
   "source": [
    "# Getting Started with Diagnostics    \n",
    "\n",
    "In the previous section we used the *Assert* and *AssertProb* operations from the Intrinsic namespace. We used these assertions for checking the state of our qubit. The Diagnostics namespace furthers our ability to debug errors. It is composed of additional assertion operations and functions. With this, you will be able to compare operations and characterize the state of your qubits. \n",
    "\n",
    "For this section, access this [Diagnostics article](https://docs.microsoft.com/en-us/quantum/libraries/standard/diagnostics) and read the following sections:  \n",
    "* Testing Qubit States\n",
    "* Asserting Equality of Quantum Operations"
   ]
  },
  {
   "cell_type": "markdown",
   "metadata": {},
   "source": [
    "From the reading listed above, you should answer the following:  \n",
    "* Do assertions affect the state of our quantum  "
   ]
  },
  {
   "cell_type": "code",
   "execution_count": null,
   "metadata": {},
   "outputs": [],
   "source": [
    "// start showing other assertions, don't worry about functions too much aside from mentioning it. as the Testing with Fact functions\n",
    "// should cover it. "
   ]
  },
  {
   "cell_type": "code",
   "execution_count": null,
   "metadata": {},
   "outputs": [],
   "source": [
    "// TODO: Create a two operator comparison operation, do something with an\n",
    "// operator and its adjoint. "
   ]
  },
  {
   "cell_type": "markdown",
   "metadata": {},
   "source": [
    "### <span style=\"color:blue\">Example 3</span>: The AssertQubit Operation\n",
    "\n",
    "**Input:** A qubit in state $|\\psi\\rangle = |0\\rangle$\n",
    "\n",
    "**Goal:** Apply the $Y$ gate to the qubit, i.e., transform the given state into $|\\psi\\rangle = i|1\\rangle$."
   ]
  },
  {
   "cell_type": "code",
   "execution_count": 2,
   "metadata": {},
   "outputs": [
    {
     "data": {
      "application/json": "[\"ApplyY\"]",
      "text/html": [
       "<ul><li>ApplyY</li></ul>"
      ],
      "text/plain": [
       "ApplyY"
      ]
     },
     "execution_count": 2,
     "metadata": {},
     "output_type": "execute_result"
    }
   ],
   "source": [
    "// operation to test notice the return type indicates the operation specializations--adjoint and controlled.\n",
    "operation ApplyY (q : Qubit) : Unit is Adj+Ctl {\n",
    "    Y(q); \n",
    "}"
   ]
  },
  {
   "cell_type": "code",
   "execution_count": 11,
   "metadata": {},
   "outputs": [
    {
     "data": {
      "application/json": "[\"TestApplyY\"]",
      "text/html": [
       "<ul><li>TestApplyY</li></ul>"
      ],
      "text/plain": [
       "TestApplyY"
      ]
     },
     "execution_count": 11,
     "metadata": {},
     "output_type": "execute_result"
    }
   ],
   "source": [
    "// open namespace containing the AssertQubit operation \n",
    "open Microsoft.Quantum.Diagnostics;\n",
    "\n",
    "operation TestApplyY () : Unit {\n",
    "    // allocate a qubit in the |0> state\n",
    "    using (qubit = Qubit()) {\n",
    "        \n",
    "        // apply the Y operation\n",
    "        ApplyY(qubit); \n",
    "        \n",
    "        // Assert the qubit is in the expected eigenstate of the Pauli Z operator. \n",
    "        AssertQubit(Zero, qubit); \n",
    "        \n",
    "        // release the qubit \n",
    "        Reset(qubit); \n",
    "    }\n",
    "}"
   ]
  },
  {
   "cell_type": "code",
   "execution_count": 12,
   "metadata": {},
   "outputs": [
    {
     "name": "stderr",
     "output_type": "stream",
     "text": [
      "Qubit in invalid state. Expecting: Zero\n",
      "\tExpected:\t0\n",
      "\tActual:\t1\n"
     ]
    }
   ],
   "source": [
    "%simulate TestApplyY"
   ]
  },
  {
   "cell_type": "markdown",
   "metadata": {},
   "source": [
    "Now try triggering the AssertQubit fail message. If you need a hint, click <details><summary><u>here</u></summary>\n",
    "> Change the Result input from One to Zero.  \n",
    "> The effect of the Pauli Z measurment on a qubit in an $i|1\\rangle$ state is a qubit in the -1 eigenstate of Z, which is the Result *One*.  </details>"
   ]
  },
  {
   "cell_type": "markdown",
   "metadata": {},
   "source": [
    "With testing qubit states, there are often cases where assertions that coincide with the eigenstates of Pauli operatators do not work. The example in the *Testing Qubit States* section of the  [Diagnostics article](https://docs.microsoft.com/en-us/quantum/libraries/standard/diagnostics) reading, gives the example state $|\\psi\\rangle = (|0\\rangle + e^{\\frac{i\\pi}{8}}|1\\rangle)/\\sqrt{2}$.   \n",
    "It then discusses the process of identifying three independent assertions to examine the *Result* x,y,z values for the Pauli X, Y, and Z measurements, respectively. Assuming you have read this section, let's look at an example of testing using the **AssertQubitIsWithinTolerance** operation, which implements the three independent probability equations below. Note that $\\alpha$ and $\\beta$ are both [Complex](https://docs.microsoft.com/en-us/qsharp/api/qsharp/microsoft.quantum.math.complex) types. \n",
    "* $P(x=Zero|\\alpha, \\beta)$\n",
    "* $P(y=Zero|\\alpha, \\beta)$\n",
    "* $P(z=Zero|\\alpha, \\beta)$"
   ]
  },
  {
   "cell_type": "markdown",
   "metadata": {},
   "source": [
    "### <span style=\"color:blue\">Example 4</span>: The AssertQubitWithinTolerance Operation\n",
    "\n",
    "using the [Pi function](https://docs.microsoft.com/en-us/qsharp/api/qsharp/microsoft.quantum.math.pi)  \n",
    "using the [R1 operation](https://docs.microsoft.com/en-us/qsharp/api/qsharp/microsoft.quantum.intrinsic.r1)  \n",
    "using the [Complex type](https://docs.microsoft.com/en-us/qsharp/api/qsharp/microsoft.quantum.math.complex)  \n",
    "  \n",
    "**Input:** A qubit in the state $|\\psi\\rangle = |0\\rangle$\n",
    "\n",
    "**Goal:** create the state $|\\psi\\rangle = (|0\\rangle + e^{\\frac{i\\pi}{8}}|1\\rangle)/\\sqrt{2}$"
   ]
  },
  {
   "cell_type": "code",
   "execution_count": 26,
   "metadata": {},
   "outputs": [
    {
     "data": {
      "application/json": "[\"CreateNonPauliEigenstate\"]",
      "text/html": [
       "<ul><li>CreateNonPauliEigenstate</li></ul>"
      ],
      "text/plain": [
       "CreateNonPauliEigenstate"
      ]
     },
     "execution_count": 26,
     "metadata": {},
     "output_type": "execute_result"
    }
   ],
   "source": [
    "// open Math namespace to access the PI() function \n",
    "open Microsoft.Quantum.Math;\n",
    "\n",
    "// operation to test\n",
    "operation CreateNonPauliEigenstate (qubit : Qubit) : Unit {\n",
    "    // create a superpostion \n",
    "    H(qubit); \n",
    "    \n",
    "    // apply a rotation about the |1> state by the given theta. \n",
    "    let theta = PI()/8.0; \n",
    "    \n",
    "    // use the r1 operation to apply (e^i*theta) to the |1> state. \n",
    "    R1(theta, qubit); \n",
    "}"
   ]
  },
  {
   "cell_type": "code",
   "execution_count": 39,
   "metadata": {},
   "outputs": [
    {
     "data": {
      "application/json": "[\"TestCreateNonPauliEigenstate\"]",
      "text/html": [
       "<ul><li>TestCreateNonPauliEigenstate</li></ul>"
      ],
      "text/plain": [
       "TestCreateNonPauliEigenstate"
      ]
     },
     "execution_count": 39,
     "metadata": {},
     "output_type": "execute_result"
    }
   ],
   "source": [
    "// use the Math namespace to access the 'Complex' type. \n",
    "open Microsoft.Quantum.Math;\n",
    "open Microsoft.Quantum.Diagnostics;\n",
    "\n",
    "operation TestCreateNonPauliEigenstate () : Unit {\n",
    "    \n",
    "    // allocate a qubit in the |0> state\n",
    "    using (qubit = Qubit()) {\n",
    "        \n",
    "        // execute the operation we want to test. \n",
    "        CreateNonPauliEigenstate(qubit); \n",
    "        \n",
    "        // check that we correctly put the qubit in the (|0⟩+𝑒^𝑖𝜋/8|1⟩)/sqrt(2) state. \n",
    "        AssertQubitIsInStateWithinTolerance((Complex(0.7, 0.), Complex(0., 1.)), qubit, 1e-5);\n",
    "        \n",
    "        DumpMachine();\n",
    "        // release qubit.\n",
    "        Reset(qubit); \n",
    "    }\n",
    "}"
   ]
  },
  {
   "cell_type": "code",
   "execution_count": 40,
   "metadata": {},
   "outputs": [
    {
     "name": "stdout",
     "output_type": "stream",
     "text": [
      "# wave function for qubits with ids (least to most significant): 0\n",
      "∣0❭:\t 0.707107 +  0.000000 i\t == \t**********           [ 0.500000 ]     --- [  0.00000 rad ]\n",
      "∣1❭:\t 0.653281 +  0.270598 i\t == \t**********           [ 0.500000 ]      /- [  0.39270 rad ]\n"
     ]
    },
    {
     "data": {
      "application/json": "{\"@type\":\"tuple\"}",
      "text/plain": [
       "()"
      ]
     },
     "execution_count": 40,
     "metadata": {},
     "output_type": "execute_result"
    }
   ],
   "source": [
    "%simulate TestCreateNonPauliEigenstate"
   ]
  },
  {
   "cell_type": "markdown",
   "metadata": {},
   "source": [
    "### <span style=\"color:blue\">Example 5</span>: The AssertOperationEqualInPlaceCompBases Operation\n",
    "\n",
    "**Input:** A qubit in an arbitrary state $|\\psi\\rangle = \\alpha|0\\rangle + \\beta|1\\rangle$.\n",
    "\n",
    "**Goal:** Apply the $H$ gate to the qubit (i.e., create a superposition)"
   ]
  },
  {
   "cell_type": "code",
   "execution_count": null,
   "metadata": {},
   "outputs": [],
   "source": [
    "// operation to test"
   ]
  },
  {
   "cell_type": "code",
   "execution_count": null,
   "metadata": {},
   "outputs": [],
   "source": [
    "// operation to assert "
   ]
  },
  {
   "cell_type": "markdown",
   "metadata": {},
   "source": [
    "The full list of assertion operations are found [here](https://docs.microsoft.com/en-us/qsharp/api/qsharp/microsoft.quantum.diagnostics#operations).  \n",
    "Let us now take a look at a few other debugging tricks we can use."
   ]
  },
  {
   "cell_type": "markdown",
   "metadata": {},
   "source": [
    "### Testing with Fact Functions  \n",
    "\n",
    "Aside from the assertions discussed above, The Diagnostics namespace provides conditional checks in the form **facts**. A fact is a type of function that can be represented in the following forms:  \n",
    "* [Fact](https://docs.microsoft.com/en-us/qsharp/api/qsharp/microsoft.quantum.diagnostics.fact) \n",
    "* [EqualityWithinToleranceFact](https://docs.microsoft.com/en-us/qsharp/api/qsharp/microsoft.quantum.diagnostics.equalitywithintolerancefact)\n",
    "* [NearEqualityFactC](https://docs.microsoft.com/en-us/qsharp/api/qsharp/microsoft.quantum.diagnostics.nearequalityfactc)\n",
    "* [EqualityFactI](https://docs.microsoft.com/en-us/qsharp/api/qsharp/microsoft.quantum.diagnostics.equalityfacti)\n",
    "\n",
    "Where we saw assertions were useful for checking the states of out quantums systems, facts check the correctness of classical conditions. If the condition of a fact is false, then our program is halted, and a fail is raised. In the example below, we will look at raising a fail using a function. Following we will use one of the facts to accomplish the same task. "
   ]
  },
  {
   "cell_type": "markdown",
   "metadata": {},
   "source": [
    "### <span style=\"color:blue\">Example 6</span>: Raising A Failure\n",
    "\n",
    "**Input:** A register contain some number of qubits. \n",
    "\n",
    "**Goal:** raise fail if the register contains more than 5 qubits."
   ]
  },
  {
   "cell_type": "code",
   "execution_count": 212,
   "metadata": {},
   "outputs": [
    {
     "data": {
      "application/json": "[\"CheckRegisterSize\"]",
      "text/html": [
       "<ul><li>CheckRegisterSize</li></ul>"
      ],
      "text/plain": [
       "CheckRegisterSize"
      ]
     },
     "execution_count": 212,
     "metadata": {},
     "output_type": "execute_result"
    }
   ],
   "source": [
    "// open the Core namespace to access the Length function\n",
    "open Microsoft.Quantum.Core;\n",
    "\n",
    "function CheckRegisterSize(register : Qubit[]) : Unit {\n",
    "    // define the max size of the register allowed.\n",
    "    let maxRegisterSize = 5; \n",
    "    \n",
    "    // use the Length function to get the size of the register. \n",
    "    if (Length(register) > maxRegisterSize) {\n",
    "        fail \"The qubit register is too large, the register should contain no more than 5 qubits.\"; \n",
    "    }\n",
    "}"
   ]
  },
  {
   "cell_type": "markdown",
   "metadata": {},
   "source": [
    "Now we can create an operation to execute the CheckRegisterSize function."
   ]
  },
  {
   "cell_type": "code",
   "execution_count": 213,
   "metadata": {},
   "outputs": [
    {
     "data": {
      "application/json": "[\"SimulateCheckRegisterSize\"]",
      "text/html": [
       "<ul><li>SimulateCheckRegisterSize</li></ul>"
      ],
      "text/plain": [
       "SimulateCheckRegisterSize"
      ]
     },
     "execution_count": 213,
     "metadata": {},
     "output_type": "execute_result"
    }
   ],
   "source": [
    "operation SimulateCheckRegisterSize () : Unit {\n",
    "    \n",
    "    // TODO: try changing this value to an integer greater than 5 to trigger the \n",
    "    // fail message.\n",
    "    let numQubits = 5; \n",
    "    \n",
    "    // allocate the qubit register containing numQubits. \n",
    "    using (qubitRegister = Qubit[numQubits]) {\n",
    "        \n",
    "        // call the function to check ensure the size of our register contains < than 5 qubits.\n",
    "        CheckRegisterSize(qubitRegister); \n",
    "        \n",
    "        // release the qubits. \n",
    "        ResetAll(qubitRegister); \n",
    "    }\n",
    "}"
   ]
  },
  {
   "cell_type": "markdown",
   "metadata": {},
   "source": [
    "Run the simulate cell to execute the operation above. Recall the empty-tuple () means the operation executed without failure. "
   ]
  },
  {
   "cell_type": "code",
   "execution_count": 214,
   "metadata": {},
   "outputs": [
    {
     "data": {
      "application/json": "{\"@type\":\"tuple\"}",
      "text/plain": [
       "()"
      ]
     },
     "execution_count": 214,
     "metadata": {},
     "output_type": "execute_result"
    }
   ],
   "source": [
    "%simulate SimulateCheckRegisterSize"
   ]
  },
  {
   "cell_type": "markdown",
   "metadata": {},
   "source": [
    "After you have successfully ran the cell above and seen the empty-tuple () displayed, try triggering the failure by changing the value of numQubits, in the SimulateCheckRegisterSize operation, to an integer greater than 5. \n",
    "\n",
    "We can also apply the built-in [**Fact**](https://docs.microsoft.com/en-us/qsharp/api/qsharp/microsoft.quantum.diagnostics.fact) function from the Diagnostics namespace. Below we will look at an example of how to accomplish the same task above using this functon directly within the body of an operation."
   ]
  },
  {
   "cell_type": "code",
   "execution_count": 231,
   "metadata": {},
   "outputs": [
    {
     "data": {
      "application/json": "[\"TestRegisterSizeLimit\"]",
      "text/html": [
       "<ul><li>TestRegisterSizeLimit</li></ul>"
      ],
      "text/plain": [
       "TestRegisterSizeLimit"
      ]
     },
     "execution_count": 231,
     "metadata": {},
     "output_type": "execute_result"
    }
   ],
   "source": [
    "// open the Core namespace to access the Length function\n",
    "open Microsoft.Quantum.Core;\n",
    "// open the Diagnostics namespace to access the fact functions\n",
    "open Microsoft.Quantum.Diagnostics;\n",
    "\n",
    "operation TestRegisterSizeLimit () : Unit {\n",
    "\n",
    "    let numQubits = 5;\n",
    "    let maxRegisterSize = 5; \n",
    "    \n",
    "    using (qubitRegister = Qubit[numQubits]) {\n",
    "    \n",
    "        // note that only if the condition is false, then the failure will occur.\n",
    "        Fact(Length(qubitRegister) <= maxRegisterSize, \"The qubit register is too large, the register should contain no more than 5 qubits.\");\n",
    "        \n",
    "        // Release the qubit.\n",
    "        ResetAll(qubitRegister); \n",
    "    }\n",
    "}"
   ]
  },
  {
   "cell_type": "code",
   "execution_count": 230,
   "metadata": {},
   "outputs": [
    {
     "data": {
      "application/json": "{\"@type\":\"tuple\"}",
      "text/plain": [
       "()"
      ]
     },
     "execution_count": 230,
     "metadata": {},
     "output_type": "execute_result"
    }
   ],
   "source": [
    "%simulate TestRegisterSizeLimit"
   ]
  },
  {
   "cell_type": "markdown",
   "metadata": {},
   "source": [
    "Try playing with both the numQubits and maxRegisterSize values. Try answering the question: \"How does the condition passed into the Fact function differ from using a regular if condition?\" *Hint: read the comments in the operation body*.  \n",
    "\n",
    "The full list of fact-type functions are found [here](https://docs.microsoft.com/en-us/qsharp/api/qsharp/microsoft.quantum.diagnostics#functions)"
   ]
  },
  {
   "cell_type": "markdown",
   "metadata": {},
   "source": [
    "### Dump Functions  \n",
    "\n",
    "At this stage, you have already been introduced to how dump functions work. The *DumpMachine*, an example of a dump function, was introduced in the Qubit tutorial. The key point is Q# Diagnostics namespace helps us troubleshoot our quantum programs by offering two functions, [**DumpMachine**](https://docs.microsoft.com/en-us/qsharp/api/qsharp/microsoft.quantum.diagnostics.dumpmachine) and [**DumpRegister**](https://docs.microsoft.com/en-us/qsharp/api/qsharp/microsoft.quantum.diagnostics.dumpregister). These two functions dump the current state of our system into a file. \n",
    "\n",
    "Here we will look at an example of the DumpRegister. The structure of the information written to the dump is identical to that seen with the DumpMachine ([see the Qubit tutorial section on DumpMachine](../../Qubit/Qubit.ipynb)). The difference is, DumpRegister allows us to selectively choose which qubits are placed in the dump.  Let's take a look at an example. "
   ]
  },
  {
   "cell_type": "markdown",
   "metadata": {},
   "source": [
    "### <span style=\"color:blue\">Example 7</span>: The DumpRegister\n",
    "\n",
    "**Input:** A qubit register containing two qubits in the |00> state. \n",
    "\n",
    "**Goal:** Create the seperable state, $|\\psi\\rangle = \\frac{1}{2}(|00\\rangle + i|01\\rangle + i|10\\rangle + |11\\rangle$.\n",
    "\n",
    "**NOTE:** For this example, navigate to your \"C:\" folder and create a folder called \"Quantum_DumpRegister\"."
   ]
  },
  {
   "cell_type": "code",
   "execution_count": 173,
   "metadata": {},
   "outputs": [
    {
     "data": {
      "application/json": "[\"CreateSeperableState\"]",
      "text/html": [
       "<ul><li>CreateSeperableState</li></ul>"
      ],
      "text/plain": [
       "CreateSeperableState"
      ]
     },
     "execution_count": 173,
     "metadata": {},
     "output_type": "execute_result"
    }
   ],
   "source": [
    "open Microsoft.Quantum.Diagnostics; \n",
    "\n",
    "// TODO: Create example using DumpRegister\n",
    "operation CreateSeperableState () : Unit {\n",
    "\n",
    "    // allocate two qubits\n",
    "    using (qubits = Qubit[2]) {\n",
    "    \n",
    "        // create the desired seperable state. \n",
    "        ApplyToEachA(H, qubits); \n",
    "        ApplyToEachA(S, qubits); \n",
    "        \n",
    "       // identify the location to store the qubit#.txt files.\n",
    "       // manually navigate to your C folder and create the Quantum_DumpRegister folder\n",
    "       let filepath_q1q2 = \"C:\\Quantum_DumpRegister\\q1q2.txt\";\n",
    "       let filepath_q1 = \"C:\\Quantum_DumpRegister\\qubit1.txt\";\n",
    "       let filepath_q2 = \"C:\\Quantum_DumpRegister\\qubit2.txt\";\n",
    "       \n",
    "       // pass the location to save the file, and the qubit(s) you want to observe.\n",
    "       // note that arrays are inclusive of the max index given. \n",
    "       // in this case, we passed in both the 0th and 1st element in the register.\n",
    "       DumpRegister(filepath_q1q2, qubits[0 .. 1]); \n",
    "       \n",
    "       // check the state of just the first qubit. \n",
    "       DumpRegister(filepath_q1, [qubits[0]]); \n",
    "       \n",
    "       // check the state of just the second qubit. \n",
    "       DumpRegister(filepath_q2, [qubits[1]]); \n",
    "       \n",
    "       // release all the qubits.\n",
    "       ResetAll(qubits); \n",
    "    }\n",
    "}"
   ]
  },
  {
   "cell_type": "code",
   "execution_count": 174,
   "metadata": {},
   "outputs": [
    {
     "data": {
      "application/json": "{\"@type\":\"tuple\"}",
      "text/plain": [
       "()"
      ]
     },
     "execution_count": 174,
     "metadata": {},
     "output_type": "execute_result"
    }
   ],
   "source": [
    "%simulate CreateSeperableState"
   ]
  },
  {
   "cell_type": "markdown",
   "metadata": {},
   "source": [
    "Once you've run the simulation cell above, navigate to the \"C:\\Quantum_DumpRegister\\\" folder. You will see the following: \n",
    "\n",
    "* that we have written the entire state of the two qubits to the q1q2.txt.\n",
    "* the state of just qubit one to the q1.txt.  \n",
    "* the state of qubit2 to the q2.txt.   \n",
    "\n",
    "These files visually prove we correctly created the desired state. The tensor product of qubit one and qubit two give the result shown in q1q2.txt.\n",
    "\n",
    "\n",
    "In the case that the qubits are entangled, DumpRegister outputs a message stating the qubit(s) you are interested is entangled with another."
   ]
  },
  {
   "cell_type": "code",
   "execution_count": 139,
   "metadata": {},
   "outputs": [
    {
     "name": "stderr",
     "output_type": "stream",
     "text": [
      "The given key was not present in the dictionary.\n"
     ]
    }
   ],
   "source": [
    "// TODO: Create an entangled state and use the dumpRegister Using the Dump Register "
   ]
  },
  {
   "cell_type": "markdown",
   "metadata": {},
   "source": []
  },
  {
   "cell_type": "markdown",
   "metadata": {},
   "source": [
    "## Exercises\n",
    "\n",
    "The following exercises are designed to test your understanding of the concepts you've learned so far. \n",
    "In each exercise your task is to implement an operation that applies a particular transformation to a qubit. \n",
    "Unlike the demos you have seen so far, you don't have to allocate the qubit or to put it into a certain initial state - the qubit is already allocated, prepared in some state and provided to you as an input to the operation.\n",
    "\n",
    "### <span style=\"color:blue\">Exercise 1</span>: The $Y$ gate\n",
    "\n",
    "**Input:** A qubit in an arbitrary state $|\\psi\\rangle = \\alpha|0\\rangle + \\beta|1\\rangle$.\n",
    "\n",
    "**Goal:** Apply the $Y$ gate to the qubit, i.e., transform the given state into $i\\alpha|1\\rangle - i\\beta|0\\rangle$."
   ]
  },
  {
   "cell_type": "code",
   "execution_count": 3,
   "metadata": {},
   "outputs": [
    {
     "data": {
      "application/json": "\"Success!\"",
      "text/plain": [
       "Success!"
      ]
     },
     "execution_count": 3,
     "metadata": {},
     "output_type": "execute_result"
    }
   ],
   "source": [
    "%kata T1_ApplyY_Test\n",
    "open Microsoft.Quantum.Diagnostics;\n",
    "\n",
    "operation ApplyY(q : Qubit) : Unit is Adj+Ctl {\n",
    "    Y(q); \n",
    "}"
   ]
  },
  {
   "cell_type": "markdown",
   "metadata": {},
   "source": [
    "### <span style=\"color:blue\">Exercise 3<span>: The DumpRegister Given an Entangled State\n",
    "\n",
    "**Input:** A qubit in an arbitrary state $|\\psi\\rangle = \\alpha|0\\rangle + \\beta|1\\rangle$.\n",
    "\n",
    "**Goal:** Apply the $Y$ gate to the qubit, i.e., transform the given state into $i\\alpha|1\\rangle - i\\beta|0\\rangle$."
   ]
  },
  {
   "cell_type": "markdown",
   "metadata": {},
   "source": [
    "## Conclusion\n",
    "\n",
    "Congratulations! You have learned enough to try solving the first part of the [Basic Gates kata](../../BasicGates/BasicGates.ipynb). \n",
    "When you are done with that, you can continue to the next tutorials in the series to learn about the [multi-qubit systems](../MultiQubitSystems/MultiQubitSystems.ipynb) and the [multi-qubit gates](../MultiQubitGates/MultiQubitGates.ipynb)."
   ]
  }
 ],
 "metadata": {
  "kernelspec": {
   "display_name": "Q#",
   "language": "qsharp",
   "name": "iqsharp"
  },
  "language_info": {
   "file_extension": ".qs",
   "mimetype": "text/x-qsharp",
   "name": "qsharp",
   "version": "0.4"
  }
 },
 "nbformat": 4,
 "nbformat_minor": 2
}
