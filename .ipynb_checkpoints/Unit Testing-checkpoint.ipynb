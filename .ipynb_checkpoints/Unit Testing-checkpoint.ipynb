{
 "cells": [
  {
   "cell_type": "markdown",
   "metadata": {},
   "source": [
    "# Unit Testing and Debugging\n",
    "**Author: Zak Hussain**  \n",
    "**Date: 4/18/2019**  \n",
    "\n",
    "This tutorial introduces you to building blocks for unit testing in Q#. Diagnosing errors and understanding the expected outcome of your code is as true in quantum computing as it is in classical computing. \n",
    "\n",
    "In this notebook, you will see how the Q# language and built-in libraries allow you to build/use operations and functions to test your code.\n",
    "\n",
    "Before starting this tutorial, I recommend you complete the following notebooks:  \n",
    "* [Introduction to the Qubit](../Qubit/Qubit.ipynb)\n",
    "* [Single Qubit Gates](../SingleQubitGates/SingleQubitGates.ipynb) \n",
    "* [Multiqubit Gystems](../MultiQubitSystems/MultiQubitSystems.ipynb)\n",
    "* [Multiqubit Gates](../MultiQubitGates/MultiQubitGates.ipynb)\n",
    "\n",
    "For each topic, I will link you to additional readings found in the microsoft QDK docs. I will also state what you should take away from the assigned reading. \n",
    "\n",
    "Given that you've completed the four tutorials above, you should understand how gates are used to manipulate qubit registers. With that, you can focus on navigating the Q# language to start writing unit tests.\n",
    "\n",
    "We will cover the following: \n",
    "\n",
    "* Operations and functions \n",
    "* Using the diagnostics namespace \n",
    "* Raising errors using fail and facts\n",
    "* Dump Functions\n",
    "\n",
    "At the end of the notebook, there are exercises in building unit tests. they will start relatively simple (given you understand the fundamentals of Q#) and gradually get more difficult. Spend at least 20 minutes on each problem before looking at the answers. \n",
    "\n",
    "For your use, here is a [cheatsheet for Q#](https://github.com/microsoft/QuantumKatas/blob/master/quickref/qsharp-quick-reference.pdf)."
   ]
  },
  {
   "cell_type": "markdown",
   "metadata": {},
   "source": [
    "To begin, first prepare this notebook for execution (if you skip this step, you'll get \"Syntax does not match any known patterns\" error when you try to execute Q# code in the exercises):"
   ]
  },
  {
   "cell_type": "code",
   "execution_count": 1,
   "metadata": {},
   "outputs": [
    {
     "data": {
      "application/json": "[\"Microsoft.Quantum.Standard::0.10.1911.1607\",\"Microsoft.Quantum.Katas::0.10.1911.1607\"]",
      "text/html": [
       "<ul><li>Microsoft.Quantum.Standard::0.10.1911.1607</li><li>Microsoft.Quantum.Katas::0.10.1911.1607</li></ul>"
      ],
      "text/plain": [
       "Microsoft.Quantum.Standard::0.10.1911.1607, Microsoft.Quantum.Katas::0.10.1911.1607"
      ]
     },
     "execution_count": 1,
     "metadata": {},
     "output_type": "execute_result"
    }
   ],
   "source": [
    "%package Microsoft.Quantum.Katas::0.10.1911.1607"
   ]
  },
  {
   "cell_type": "markdown",
   "metadata": {},
   "source": [
    "> The package versions in the output of the cell above should always match. If you are running the Notebooks locally and the versions do not match, please install the IQ# version that matches the version of the `Microsoft.Quantum.Katas` package.\n",
    "> <details>\n",
    "> <summary><u>How to install the right IQ# version</u></summary>\n",
    "> For example, if the version of `Microsoft.Quantum.Katas` package above is 0.1.2.3, the installation steps are as follows:\n",
    ">\n",
    "> 1. Stop the kernel.\n",
    "> 2. Uninstall the existing version of IQ#:\n",
    ">        dotnet tool uninstall microsoft.quantum.iqsharp -g\n",
    "> 3. Install the matching version:\n",
    ">        dotnet tool install microsoft.quantum.iqsharp -g --version 0.1.2.3\n",
    "> 4. Reinstall the kernel:\n",
    ">        dotnet iqsharp install\n",
    "> 5. Restart the Notebook.\n",
    "> </details>\n"
   ]
  },
  {
   "cell_type": "markdown",
   "metadata": {},
   "source": [
    "## Operations and Functions  \n",
    "\n",
    "For this section, access this [article](https://docs.microsoft.com/en-us/quantum/techniques/operations-and-functions) and read the following sections:  \n",
    "* [Defining New Operations](https://docs.microsoft.com/en-us/quantum/techniques/operations-and-functions#defining-new-operations)\n",
    "* [Defining New Functions](https://docs.microsoft.com/en-us/quantum/techniques/operations-and-functions#defining-new-functions)\n",
    "\n",
    "From the sections above, you should answer the following:  \n",
    "* What is an operation? \n",
    "* What is a function used for in Q#? \n",
    "* how does an operation differ from a function? \n",
    "* Why is Q# called a \"tuple-in-tuple-out\" langauge?  "
   ]
  },
  {
   "cell_type": "markdown",
   "metadata": {},
   "source": [
    "As described in the reading, **operations** are used to carry out manipulations to quantum information; whereas, **Functions** are used solely for classical computation. \n",
    "\n",
    "Your Q# programs will largely consist of operations that act on qubit registers. Operations are composed of other operations and can call functions. It is important to note that functions do not act on qubits and cannot call operations. They are used for computing classical values (e.g., 1+1, 2x2). Later, we will see that functions have a characteristic that make them useful for embedding into assertions operations."
   ]
  },
  {
   "cell_type": "markdown",
   "metadata": {},
   "source": [
    "Let's start with looking at an example operation.  \n",
    "\n",
    "We will use the BitFlip operation, from the \"Defining New Operations\" section of the reading, to observe how we can construct a unit test operation. "
   ]
  },
  {
   "cell_type": "markdown",
   "metadata": {},
   "source": [
    "### <span style=\"color:blue\">Example 1</span>: The BitFlip Operation\n",
    "\n",
    "**Input:** A qubit in an arbitrary state $|\\psi\\rangle = \\alpha|0\\rangle + \\beta|1\\rangle$.\n",
    "\n",
    "**Goal:** Apply the $X$ gate to the qubit (i.e., transform the given state into $|1\\rangle$ if the target qubit starts in the $|0\\rangle$ state and vice versa)."
   ]
  },
  {
   "cell_type": "code",
   "execution_count": 2,
   "metadata": {},
   "outputs": [
    {
     "data": {
      "application/json": "[\"BitFlip\"]",
      "text/html": [
       "<ul><li>BitFlip</li></ul>"
      ],
      "text/plain": [
       "BitFlip"
      ]
     },
     "execution_count": 2,
     "metadata": {},
     "output_type": "execute_result"
    }
   ],
   "source": [
    "operation BitFlip(target : Qubit) : Unit {\n",
    "    X(target); \n",
    "}"
   ]
  },
  {
   "cell_type": "markdown",
   "metadata": {},
   "source": [
    "The BitFlip operation flips the state of an input qubit. This operation's output is the empty tuple (), as defined by the output type *Unit*. The body of our code calls the built-in Q# operation [*X*](https://docs.microsoft.com/en-us/qsharp/api/qsharp/microsoft.quantum.intrinsic.x), which flips our target qubit.\n",
    "\n",
    "Testing this BitFlip operation requires us to do the following:  \n",
    "1. Define an test operation that will call the BitFlip operation.\n",
    "2. Allocate a qubit to store our quantum state. \n",
    "3. Check that BitFlip manipulates our quantum state correctly. \n",
    "\n",
    "To accomplish step 2, we can use the [*Assert*](https://docs.microsoft.com/en-us/qsharp/api/qsharp/microsoft.quantum.intrinsic.assert) or [*AssertProb*](https://docs.microsoft.com/en-us/qsharp/api/qsharp/microsoft.quantum.intrinsic.assertprob) operation found in the [Intrinsic](https://docs.microsoft.com/en-us/qsharp/api/qsharp/microsoft.quantum.intrinsic) namespace. In addition, using those two operations requires us to run [*Pauli measurements*](https://docs.microsoft.com/en-us/quantum/concepts/pauli-measurements) (e.g., PauliX, PauliZ) as demonstrated in the code block below. "
   ]
  },
  {
   "cell_type": "markdown",
   "metadata": {},
   "source": [
    "TestBitFlipUsingAssert works as follows:  \n",
    "1. Allocates a single qubit. \n",
    "2. Executes the BitFlip operation on the qubit. \n",
    "3. Runs the Assert on our qubit based on the PauliZ measurement. \n",
    "4. Resets the qubit back to its $|0\\rangle$ state. "
   ]
  },
  {
   "cell_type": "code",
   "execution_count": 3,
   "metadata": {},
   "outputs": [
    {
     "data": {
      "application/json": "[\"TestBitFlipUsingAssert\"]",
      "text/html": [
       "<ul><li>TestBitFlipUsingAssert</li></ul>"
      ],
      "text/plain": [
       "TestBitFlipUsingAssert"
      ]
     },
     "execution_count": 3,
     "metadata": {},
     "output_type": "execute_result"
    }
   ],
   "source": [
    "// run this code block, \n",
    "// then excecute this operation by running simulate cell below.\n",
    "operation TestBitFlipUsingAssert () : Unit {\n",
    "    // allocate a qubit in the |0> state.\n",
    "    using (qubit = Qubit()) \n",
    "    {   \n",
    "        // flip the qubit from the |0> state to the |1> state\n",
    "        BitFlip(qubit); \n",
    "        \n",
    "        // ensure that the qubit results in the One state, given the effect of the PauliZ measurement.\n",
    "        // TODO: after you successfuly simulated this operation by running the cell below, try changing the One to Zero.\n",
    "        Assert([PauliZ], [qubit], One, \"The qubit did not result in the One state given the PauliZ effect.\"); \n",
    "        \n",
    "        // Release the qubit\n",
    "        Reset(qubit); \n",
    "    }\n",
    "}"
   ]
  },
  {
   "cell_type": "code",
   "execution_count": 4,
   "metadata": {},
   "outputs": [
    {
     "data": {
      "application/json": "{\"@type\":\"tuple\"}",
      "text/plain": [
       "()"
      ]
     },
     "execution_count": 4,
     "metadata": {},
     "output_type": "execute_result"
    }
   ],
   "source": [
    "%simulate TestBitFlipUsingAssert"
   ]
  },
  {
   "cell_type": "markdown",
   "metadata": {},
   "source": [
    "Notice that we get an empty tuple after running the simulation cell above. This is good! it means our test passed. We are using an Assert that applies the PauliZ measurement effect on the qubit and we expect to get the One Result type. \n",
    "\n",
    "Now, go back to the Assert operation and try changing the One result to a Zero as marked in the TODO comment. Once you've made the change, re-run the two code cells, and you should now see an error message! "
   ]
  },
  {
   "cell_type": "markdown",
   "metadata": {},
   "source": [
    "Let's answer the question of how our Assert operation is being used in Q#. We pass in a Pauli operator that describes a measurment of interest, the quantum register which we perform the measurement, the hypothetical outcome, and an error message. Since we are executing our code in simulation, the measurement we perform does not manipulate our register. Once our  programe is run, if the condition is found false, the Assert will raises a *fail* alongside our error message. \n",
    "\n",
    "We will see an operation clearly showing that assertions do not manipulating our register in Example 2. Also, read about the [Pauli Measurements](https://docs.microsoft.com/en-us/quantum/concepts/pauli-measurements) as they are fairly useful for identifying quantum states. We used the PauliZ measurement in the Assert operation above, and now we will use the PauliX in Example 2. "
   ]
  },
  {
   "cell_type": "markdown",
   "metadata": {},
   "source": [
    "### <span style=\"color:blue\">Example 2</span>: The H Gate\n",
    "\n",
    "**Input:** A qubit in an arbitrary state $|\\psi\\rangle = \\alpha|0\\rangle + \\beta|1\\rangle$.\n",
    "\n",
    "**Goal:** Apply the $H$ gate to the qubit (i.e., create a superposition)"
   ]
  },
  {
   "cell_type": "code",
   "execution_count": 5,
   "metadata": {},
   "outputs": [
    {
     "data": {
      "application/json": "[\"CreateSuperposition\"]",
      "text/html": [
       "<ul><li>CreateSuperposition</li></ul>"
      ],
      "text/plain": [
       "CreateSuperposition"
      ]
     },
     "execution_count": 5,
     "metadata": {},
     "output_type": "execute_result"
    }
   ],
   "source": [
    "operation CreateSuperposition (q: Qubit) : Unit {\n",
    "        // place the qubit in superposition, (|0> + |1>)/sqrt(2). \n",
    "        H(q); \n",
    "}"
   ]
  },
  {
   "cell_type": "markdown",
   "metadata": {},
   "source": [
    "Given the above operation, we can define a test operation, TestSuperpositionUsingAssertProb, that will accomplish the following: \n",
    "1. Allocate a qubit. \n",
    "2. Execute the CreateSuperposition operation on our qubit.\n",
    "3. Use AssertProb to ensure the correctness of CreateSuperposition by measuring the PauliX effect on the qubit.\n",
    "4. Set the qubit back to it's original state."
   ]
  },
  {
   "cell_type": "code",
   "execution_count": 6,
   "metadata": {},
   "outputs": [
    {
     "data": {
      "application/json": "[\"TestSuperpositionUsingAssertProb\"]",
      "text/html": [
       "<ul><li>TestSuperpositionUsingAssertProb</li></ul>"
      ],
      "text/plain": [
       "TestSuperpositionUsingAssertProb"
      ]
     },
     "execution_count": 6,
     "metadata": {},
     "output_type": "execute_result"
    }
   ],
   "source": [
    "operation TestSuperpositionUsingAssertProb () : Unit {\n",
    "    using (qubit = Qubit()) {\n",
    "        // place qubit in superposition. \n",
    "        CreateSuperposition(qubit); \n",
    "        \n",
    "        // assert that the PauliX effect on the qubit in superposition will result in the |0> state with a \n",
    "        // probability success of 1.0 within a 0.0 tolerance.\n",
    "        AssertProb([PauliX], [qubit], Zero, 1.0, \"The qubit does not result in the Zero state given the PauliX effect.\", 0.0);\n",
    "        \n",
    "        // release the qubits \n",
    "        Reset(qubit); \n",
    "    }\n",
    "}"
   ]
  },
  {
   "cell_type": "code",
   "execution_count": 7,
   "metadata": {},
   "outputs": [
    {
     "data": {
      "application/json": "{\"@type\":\"tuple\"}",
      "text/plain": [
       "()"
      ]
     },
     "execution_count": 7,
     "metadata": {},
     "output_type": "execute_result"
    }
   ],
   "source": [
    "%simulate TestSuperpositionUsingAssertProb"
   ]
  },
  {
   "cell_type": "markdown",
   "metadata": {},
   "source": [
    "Given that you ran the above cell successfully, try changing the Result state of the AssertProb operation from Zero to One. Why do you think this triggers the failure message?  \n",
    "\n",
    "To show that the assertion does not change the state of our register, we can use the DumpMachine to observe the state of our qubit(s). Using the same steps as in TestSuperpositionUsingAssertProb, let's create an operation DumpSuperpositionUsingAssertProb that will also dump the state of our qubit after the assertion. \n",
    "\n",
    "It will work as follows:  \n",
    "\n",
    "1. Allocate a qubit.\n",
    "2. Execute the CreateSuperposition operation on our qubit.\n",
    "3. Use AssertProb to ensure the correctness of CreateSuperposition by measuring the PauliX effect on the qubit.\n",
    "4. Use DumpMachine to observe the state of our quantum system.\n",
    "5. Set the qubit back to it's original state."
   ]
  },
  {
   "cell_type": "code",
   "execution_count": 8,
   "metadata": {},
   "outputs": [
    {
     "data": {
      "application/json": "[\"DumpSuperpositionUsingAssertProb\"]",
      "text/html": [
       "<ul><li>DumpSuperpositionUsingAssertProb</li></ul>"
      ],
      "text/plain": [
       "DumpSuperpositionUsingAssertProb"
      ]
     },
     "execution_count": 8,
     "metadata": {},
     "output_type": "execute_result"
    }
   ],
   "source": [
    "// open the diagnositcs namespace in this cell to access the DumpMachine\n",
    "open Microsoft.Quantum.Diagnostics; \n",
    "\n",
    "operation DumpSuperpositionUsingAssertProb () : Unit {\n",
    "    using (qubit = Qubit()) {\n",
    "        // place qubit in superposition. \n",
    "        CreateSuperposition(qubit);  \n",
    "        \n",
    "        // assert that the PauliX effect on the qubit in superposition will result in the |0> state with a \n",
    "        // probability success of 1.0 within a 0.0 tolerance.\n",
    "        AssertProb([PauliX], [qubit], Zero, 1.0, \"The qubit does not result in the Zero state given the PauliX effect.\", 0.0);\n",
    "        \n",
    "        // Use DumpMachine to look at the state of our entire system \n",
    "        DumpMachine(); \n",
    "        Reset(qubit); \n",
    "    }\n",
    "}"
   ]
  },
  {
   "cell_type": "code",
   "execution_count": 9,
   "metadata": {},
   "outputs": [
    {
     "name": "stdout",
     "output_type": "stream",
     "text": [
      "# wave function for qubits with ids (least to most significant): 0\n",
      "∣0❭:\t 0.707107 +  0.000000 i\t == \t***********          [ 0.500000 ]     --- [  0.00000 rad ]\n",
      "∣1❭:\t 0.707107 +  0.000000 i\t == \t***********          [ 0.500000 ]     --- [  0.00000 rad ]\n"
     ]
    },
    {
     "data": {
      "application/json": "{\"@type\":\"tuple\"}",
      "text/plain": [
       "()"
      ]
     },
     "execution_count": 9,
     "metadata": {},
     "output_type": "execute_result"
    }
   ],
   "source": [
    "%simulate DumpSuperpositionUsingAssertProb"
   ]
  },
  {
   "cell_type": "markdown",
   "metadata": {},
   "source": [
    "Given that we have seen a couple assert opertations, lets look at the Diagnostics namespace, which provides us other operations and functions we have available to diagnose our code. "
   ]
  },
  {
   "cell_type": "markdown",
   "metadata": {},
   "source": [
    "## Getting Started with Diagnostics    \n",
    "\n",
    "In the previous section we used the *Assert* and *AssertProb* operations from the Intrinsic namespace. We used these assertions for checking the state of our qubit. The Diagnostics namespace furthers our ability to debug errors. It is composed of additional assertion operations and functions. With this, you will be able to compare operations and characterize the state of your qubits. \n",
    "\n",
    "For this section, access this [Diagnostics article](https://docs.microsoft.com/en-us/quantum/libraries/standard/diagnostics) and read the following sections:  \n",
    "* Testing Qubit States\n",
    "* Asserting Equality of Quantum Operations \n",
    "\n",
    "From the reading listed above, you should answer the following:  \n",
    "* Do assertions affect the state of our quantum states? \n",
    "* How do we handle qubit states that do not coincide with eignestates of Pauli operators? What type of Assertion works for this problem? \n",
    "* What is an Adjoint operation? "
   ]
  },
  {
   "cell_type": "markdown",
   "metadata": {},
   "source": [
    "Let's jump right into looking at an example of the AssertQubit operation mentioned in the reading. "
   ]
  },
  {
   "cell_type": "markdown",
   "metadata": {},
   "source": [
    "### <span style=\"color:blue\">Example 3</span>: The AssertQubit Operation\n",
    "\n",
    "**Input:** A qubit in state $|\\psi\\rangle = |0\\rangle$\n",
    "\n",
    "**Goal:** Apply the $Y$ gate to the qubit, i.e., transform the given state into $|\\psi\\rangle = i|1\\rangle$."
   ]
  },
  {
   "cell_type": "code",
   "execution_count": 10,
   "metadata": {},
   "outputs": [
    {
     "data": {
      "application/json": "[\"ApplyY\"]",
      "text/html": [
       "<ul><li>ApplyY</li></ul>"
      ],
      "text/plain": [
       "ApplyY"
      ]
     },
     "execution_count": 10,
     "metadata": {},
     "output_type": "execute_result"
    }
   ],
   "source": [
    "// operation to test notice the return type indicates the operation specializations--adjoint and controlled.\n",
    "operation ApplyY (q : Qubit) : Unit is Adj+Ctl {\n",
    "    Y(q); \n",
    "}"
   ]
  },
  {
   "cell_type": "markdown",
   "metadata": {},
   "source": [
    "We can create a Test operation for ApplyY that will do the following: \n",
    "1. Allocate a single qubit in the $|0\\rangle$ state. \n",
    "2. Run the ApplyY operation on our qubit. \n",
    "3. Assert the state of the qubit qiven the PauliZ operator. \n",
    "4. Write a success Message. If this line runs, we know our Assert did not fail. \n",
    "5. Reset the qubit into the |0> state. "
   ]
  },
  {
   "cell_type": "code",
   "execution_count": 11,
   "metadata": {},
   "outputs": [
    {
     "data": {
      "application/json": "[\"TestApplyY\"]",
      "text/html": [
       "<ul><li>TestApplyY</li></ul>"
      ],
      "text/plain": [
       "TestApplyY"
      ]
     },
     "execution_count": 11,
     "metadata": {},
     "output_type": "execute_result"
    }
   ],
   "source": [
    "// open namespace containing the AssertQubit operation and the Message()\n",
    "open Microsoft.Quantum.Diagnostics;\n",
    "\n",
    "operation TestApplyY () : Unit {\n",
    "    // allocate a qubit in the |0> state\n",
    "    using (qubit = Qubit()) {\n",
    "        \n",
    "        // apply the Y operation.\n",
    "        ApplyY(qubit); \n",
    "        \n",
    "        // Assert the qubit is in the expected eigenstate of the Pauli Z operator. \n",
    "        AssertQubit(One, qubit); \n",
    "        \n",
    "        // display message once we execute the simulation cell.\n",
    "        Message(\"The TestApplyY operation ran successfully.\");\n",
    "        \n",
    "        // release the qubit. \n",
    "        Reset(qubit); \n",
    "    }\n",
    "}"
   ]
  },
  {
   "cell_type": "code",
   "execution_count": 12,
   "metadata": {},
   "outputs": [
    {
     "name": "stdout",
     "output_type": "stream",
     "text": [
      "The TestApplyY operation ran successfully.\n"
     ]
    },
    {
     "data": {
      "application/json": "{\"@type\":\"tuple\"}",
      "text/plain": [
       "()"
      ]
     },
     "execution_count": 12,
     "metadata": {},
     "output_type": "execute_result"
    }
   ],
   "source": [
    "%simulate TestApplyY"
   ]
  },
  {
   "cell_type": "markdown",
   "metadata": {},
   "source": [
    "Now try triggering the AssertQubit fail message. \n",
    "><details><summary><u>Click here for a hint</u></summary>\n",
    "> Change the Result input from One to Zero.  \n",
    "> The effect of the Pauli Z measurment on a qubit in an $i|1\\rangle$ state is a qubit in the -1 eigenstate of Z, which is the Result, One. \n",
    "> </details>"
   ]
  },
  {
   "cell_type": "markdown",
   "metadata": {},
   "source": [
    "With testing qubit states, there are often cases where assertions that coincide with the eigenstates of Pauli operatators do not work. The example in the *Testing Qubit States* section of the  [Diagnostics article](https://docs.microsoft.com/en-us/quantum/libraries/standard/diagnostics) gives the example state $|\\psi\\rangle = (|0\\rangle + e^{\\frac{i\\pi}{8}}|1\\rangle)/\\sqrt{2}$. It then discusses the process of identifying three independent assertions to examine the Result x,y,z values for the Pauli X, Y, and Z measurements, respectively. Assuming you have read this section, let's look at an example of testing using the [**AssertQubitIsWithinTolerance**](https://docs.microsoft.com/en-us/qsharp/api/qsharp/microsoft.quantum.diagnostics.assertqubitisinstatewithintolerance) operation, which implements the three independent probability equations below. Note that $\\alpha$ and $\\beta$ are both [Complex](https://docs.microsoft.com/en-us/qsharp/api/qsharp/microsoft.quantum.math.complex) types. \n",
    "* $P(x=Zero|\\alpha, \\beta)$\n",
    "* $P(y=Zero|\\alpha, \\beta)$\n",
    "* $P(z=Zero|\\alpha, \\beta)$"
   ]
  },
  {
   "cell_type": "markdown",
   "metadata": {},
   "source": [
    "### <span style=\"color:blue\">Example 4</span>: The AssertQubitWithinTolerance Operation\n",
    "\n",
    "**Note:** The following links provide info on components used in this example: \n",
    "* [Pi Function](https://docs.microsoft.com/en-us/qsharp/api/qsharp/microsoft.quantum.math.pi)  \n",
    "* [R1 Operation](https://docs.microsoft.com/en-us/qsharp/api/qsharp/microsoft.quantum.intrinsic.r1)  \n",
    "* [Complex Type](https://docs.microsoft.com/en-us/qsharp/api/qsharp/microsoft.quantum.math.complex) \n",
    "\n",
    "**Input:** A qubit in the state $|\\psi\\rangle = |0\\rangle$\n",
    "\n",
    "**Goal:** create the state $|\\psi\\rangle = \\frac{1}{\\sqrt{2}}(|0\\rangle + e^{\\frac{i\\pi}{8}}|1\\rangle)$"
   ]
  },
  {
   "cell_type": "code",
   "execution_count": 13,
   "metadata": {},
   "outputs": [
    {
     "data": {
      "application/json": "[\"CreateNonPauliEigenstate\"]",
      "text/html": [
       "<ul><li>CreateNonPauliEigenstate</li></ul>"
      ],
      "text/plain": [
       "CreateNonPauliEigenstate"
      ]
     },
     "execution_count": 13,
     "metadata": {},
     "output_type": "execute_result"
    }
   ],
   "source": [
    "// open Math namespace to access the PI() function \n",
    "open Microsoft.Quantum.Math;\n",
    "\n",
    "// operation to test\n",
    "operation CreateNonPauliEigenstate (qubit : Qubit) : Unit {\n",
    "    // create a superpostion \n",
    "    H(qubit); \n",
    "    \n",
    "    // apply a rotation about the |1> state by the given theta. \n",
    "    let theta = PI()/8.0; \n",
    "    \n",
    "    // use the r1 operation to apply (e^i*theta) to the |1> state. \n",
    "    R1(theta, qubit); \n",
    "}"
   ]
  },
  {
   "cell_type": "markdown",
   "metadata": {},
   "source": [
    "We can create a Test operation for CreateNonPauliEigenstate that will do the following: \n",
    "1. Allocate a single qubit in the $|0\\rangle$ state. \n",
    "2. Run the CreateNonPauliEigenstate operation on our qubit. \n",
    "3. Assert the state of the qubit is correct given its Complex $\\alpha$ and $\\beta$ values. \n",
    "4. Write a success Message. If this line runs, we know our assert did not fail. \n",
    "5. *optional* uncomment the DumpMachine line to see the state of the entire system.\n",
    "6. Reset the qubit into the $|0\\rangle$ state. \n",
    "\n",
    "*Note: Hopefully, you are starting to see a pattern in building basic tests.*"
   ]
  },
  {
   "cell_type": "code",
   "execution_count": 14,
   "metadata": {},
   "outputs": [
    {
     "data": {
      "application/json": "[\"TestCreateNonPauliEigenstate\"]",
      "text/html": [
       "<ul><li>TestCreateNonPauliEigenstate</li></ul>"
      ],
      "text/plain": [
       "TestCreateNonPauliEigenstate"
      ]
     },
     "execution_count": 14,
     "metadata": {},
     "output_type": "execute_result"
    }
   ],
   "source": [
    "// use the Math namespace to access the 'Complex' type. \n",
    "open Microsoft.Quantum.Math;\n",
    "// to see the resulting complex states for the qubit, give access to the DumpMachine function. \n",
    "open Microsoft.Quantum.Diagnostics;\n",
    "\n",
    "operation TestCreateNonPauliEigenstate () : Unit {\n",
    "    \n",
    "    // allocate a qubit in the |0> state\n",
    "    using (qubit = Qubit()) {\n",
    "        \n",
    "        // execute the operation we want to test. \n",
    "        CreateNonPauliEigenstate(qubit); \n",
    "        \n",
    "        // check that we correctly put the qubit in the (|0⟩+𝑒^𝑖𝜋/8|1⟩)/sqrt(2) state.\n",
    "        // R1(pi/8)((|0〉 + |1>)/sqrt(2)) = (|0⟩+𝑒^𝑖𝜋/8|1⟩)/sqrt(2) : a=(0.707 + 0i), b=(0.653 + 0.271i)\n",
    "        AssertQubitIsInStateWithinTolerance((Complex(0.707, 0.), Complex(0.653, 0.271)), qubit, 1e-3);\n",
    "        \n",
    "        Message(\"The AssertQubitIsInStateWithinTolerance operation ran successfully\"); \n",
    "        \n",
    "        // uncomment the DumpMachine to see the complex probability amplitudes for each state. \n",
    "        //DumpMachine();\n",
    "        \n",
    "        // release qubit.\n",
    "        Reset(qubit); \n",
    "    }\n",
    "}"
   ]
  },
  {
   "cell_type": "code",
   "execution_count": 15,
   "metadata": {},
   "outputs": [
    {
     "name": "stdout",
     "output_type": "stream",
     "text": [
      "The AssertQubitIsInStateWithinTolerance operation ran successfully\n"
     ]
    },
    {
     "data": {
      "application/json": "{\"@type\":\"tuple\"}",
      "text/plain": [
       "()"
      ]
     },
     "execution_count": 15,
     "metadata": {},
     "output_type": "execute_result"
    }
   ],
   "source": [
    "%simulate TestCreateNonPauliEigenstate"
   ]
  },
  {
   "cell_type": "markdown",
   "metadata": {},
   "source": [
    "Try changing the tolerance component in the testing operation from 1e-3 to a smaller tolerance, e.g., 1e-5. Why do you think this causes the Assertion to raise the failure message? "
   ]
  },
  {
   "cell_type": "markdown",
   "metadata": {},
   "source": [
    "We've taken a look at using assertions to look at the states of our qubits; however, we fairly often use assertion to compare operations. For example, we may want to know if two operations act the same way on a qubit register, and we want to identify the operation with the least compute. In this case, if we prove they act the identically, we just have to identify which of the two are more optimal.  \n",
    "\n",
    "Let's now take a look at the process involved in test the likeness of operations. "
   ]
  },
  {
   "cell_type": "markdown",
   "metadata": {},
   "source": [
    "### <span style=\"color:blue\">Example 5</span>: The AssertOperationEqualInPlaceCompBases Operation\n",
    "\n",
    "We will first create two operations, CreateBellStateWithCNOT and CreateBellStateWithControlledX, given the following:  \n",
    "\n",
    "**Input:** Two qubits in state $|00\\rangle$\n",
    "\n",
    "**Goal:** Transform the system into the Bell state $\\Phi^+ = \\frac{1}{\\sqrt{2}}\\big(|00\\rangle + |11\\rangle\\big)$."
   ]
  },
  {
   "cell_type": "code",
   "execution_count": 16,
   "metadata": {},
   "outputs": [
    {
     "data": {
      "application/json": "[\"CreateBellStateWithCNOT\"]",
      "text/html": [
       "<ul><li>CreateBellStateWithCNOT</li></ul>"
      ],
      "text/plain": [
       "CreateBellStateWithCNOT"
      ]
     },
     "execution_count": 16,
     "metadata": {},
     "output_type": "execute_result"
    }
   ],
   "source": [
    "// operation 1\n",
    "operation CreateBellStateWithCNOT (qubits : Qubit[]) : Unit is Adj+Ctl{\n",
    "    H(qubits[0]); \n",
    "    CNOT(qubits[0], qubits[1]);\n",
    "}"
   ]
  },
  {
   "cell_type": "code",
   "execution_count": 17,
   "metadata": {},
   "outputs": [
    {
     "data": {
      "application/json": "[\"CreateBellStateWithControlledX\"]",
      "text/html": [
       "<ul><li>CreateBellStateWithControlledX</li></ul>"
      ],
      "text/plain": [
       "CreateBellStateWithControlledX"
      ]
     },
     "execution_count": 17,
     "metadata": {},
     "output_type": "execute_result"
    }
   ],
   "source": [
    "// operation 2\n",
    "operation CreateBellStateWithControlledX (qubits : Qubit[]) : Unit is Adj+Ctl {\n",
    "    H(qubits[0]); \n",
    "    Controlled X([qubits[0]], qubits[1]);\n",
    "}"
   ]
  },
  {
   "cell_type": "markdown",
   "metadata": {},
   "source": [
    "We will use the following process to test the operations based on how we use [AssertOperationsEqualReferenced]( https://docs.microsoft.com/en-us/qsharp/api/qsharp/microsoft.quantum.diagnostics.assertoperationsequalreferenced):  \n",
    "1. Declare the number of qubits. \n",
    "2. Declare the two operations we want to compare.\n",
    "3. Execute the assertion with the components from part 1 and 2. \n",
    "4. Display a success message if the assertion doesn't fail."
   ]
  },
  {
   "cell_type": "code",
   "execution_count": 18,
   "metadata": {},
   "outputs": [
    {
     "data": {
      "application/json": "[\"TestOperationsAreEqual\"]",
      "text/html": [
       "<ul><li>TestOperationsAreEqual</li></ul>"
      ],
      "text/plain": [
       "TestOperationsAreEqual"
      ]
     },
     "execution_count": 18,
     "metadata": {},
     "output_type": "execute_result"
    }
   ],
   "source": [
    "// access the assertion operation used in this cell \n",
    "open Microsoft.Quantum.Diagnostics;\n",
    "\n",
    "operation TestOperationsAreEqual () : Unit {\n",
    "    let nQubits = 2; \n",
    "    let givenU = CreateBellStateWithControlledX;\n",
    "    let expectedU = CreateBellStateWithCNOT; \n",
    "    \n",
    "    AssertOperationsEqualReferenced(nQubits, givenU, expectedU); \n",
    "    Message(\"The AssertOperationsEqualReferenced operation ran successfully, the operations act identically.\");\n",
    "}"
   ]
  },
  {
   "cell_type": "code",
   "execution_count": 19,
   "metadata": {},
   "outputs": [
    {
     "name": "stdout",
     "output_type": "stream",
     "text": [
      "The AssertOperationsEqualReferenced operation ran successfully, the operations act identically.\n"
     ]
    },
    {
     "data": {
      "application/json": "{\"@type\":\"tuple\"}",
      "text/plain": [
       "()"
      ]
     },
     "execution_count": 19,
     "metadata": {},
     "output_type": "execute_result"
    }
   ],
   "source": [
    "%simulate TestOperationsAreEqual"
   ]
  },
  {
   "cell_type": "markdown",
   "metadata": {},
   "source": [
    "What would have happened if we changed the CreateBellStateWithControlledX operation to contain Controlled X([qubits[1]], qubits[0])? \n",
    "\n",
    "> <details> \n",
    "> <summary><u>Click here to see answer</u></summary>\n",
    "> This would raise the exception because this It would fail to create the correct state on the testing qubits for the  \n",
    "> operations to be considered equal. \n",
    "> </details>\n",
    "\n",
    "The full list of assertion operations in the Diagnostics namespace can be found [here](https://docs.microsoft.com/en-us/qsharp/api/qsharp/microsoft.quantum.diagnostics#operations).  \n",
    "With assertions covered, Let's take a look at a few other tricks we can use."
   ]
  },
  {
   "cell_type": "markdown",
   "metadata": {},
   "source": [
    "## Testing with Fact Functions  \n",
    "\n",
    "Aside from the assertions discussed above, The Diagnostics namespace provides conditional checks in the form **facts**. A fact is a type of function that can be represented in the following forms:  \n",
    "* [Fact](https://docs.microsoft.com/en-us/qsharp/api/qsharp/microsoft.quantum.diagnostics.fact) \n",
    "* [EqualityWithinToleranceFact](https://docs.microsoft.com/en-us/qsharp/api/qsharp/microsoft.quantum.diagnostics.equalitywithintolerancefact)\n",
    "* [NearEqualityFactC](https://docs.microsoft.com/en-us/qsharp/api/qsharp/microsoft.quantum.diagnostics.nearequalityfactc)\n",
    "* [EqualityFactI](https://docs.microsoft.com/en-us/qsharp/api/qsharp/microsoft.quantum.diagnostics.equalityfacti)\n",
    "\n",
    "Where we saw assertions were useful for checking the states of out quantums systems, facts check the correctness of classical conditions. If the condition of a fact is false, then our program is halted, and a fail is raised. In the example below, we will look at raising a fail using a function. Following we will use one of the facts to accomplish the same task. "
   ]
  },
  {
   "cell_type": "markdown",
   "metadata": {},
   "source": [
    "### <span style=\"color:blue\">Example 6</span>: Raising A Failure\n",
    "\n",
    "**Input:** A register contain some number of qubits. \n",
    "\n",
    "**Goal:** raise fail if the register contains more than 5 qubits."
   ]
  },
  {
   "cell_type": "code",
   "execution_count": 20,
   "metadata": {},
   "outputs": [
    {
     "data": {
      "application/json": "[\"CheckRegisterSize\"]",
      "text/html": [
       "<ul><li>CheckRegisterSize</li></ul>"
      ],
      "text/plain": [
       "CheckRegisterSize"
      ]
     },
     "execution_count": 20,
     "metadata": {},
     "output_type": "execute_result"
    }
   ],
   "source": [
    "// open the Core namespace to access the Length function\n",
    "open Microsoft.Quantum.Core;\n",
    "\n",
    "function CheckRegisterSize(register : Qubit[]) : Unit {\n",
    "    // define the max size of the register allowed.\n",
    "    let maxRegisterSize = 5; \n",
    "    \n",
    "    // use the Length function to get the size of the register. \n",
    "    if (Length(register) > maxRegisterSize) {\n",
    "        fail \"The qubit register is too large, the register should contain no more than 5 qubits.\"; \n",
    "    }\n",
    "}"
   ]
  },
  {
   "cell_type": "markdown",
   "metadata": {},
   "source": [
    "We will create a operation SimulateCheckRegisterSize that will call the CheckRegisterSize function using the following steps:  \n",
    "1. Set a variable indicating the number of qubits we want to simulate.\n",
    "2. Allocate those qubits. \n",
    "3. Call the function and give it the register. \n",
    "4. Release the qubits."
   ]
  },
  {
   "cell_type": "code",
   "execution_count": 21,
   "metadata": {},
   "outputs": [
    {
     "data": {
      "application/json": "[\"SimulateCheckRegisterSize\"]",
      "text/html": [
       "<ul><li>SimulateCheckRegisterSize</li></ul>"
      ],
      "text/plain": [
       "SimulateCheckRegisterSize"
      ]
     },
     "execution_count": 21,
     "metadata": {},
     "output_type": "execute_result"
    }
   ],
   "source": [
    "operation SimulateCheckRegisterSize () : Unit {\n",
    "    \n",
    "    // TODO: try changing this value to an integer greater than 5 to trigger the \n",
    "    // fail message.\n",
    "    let numQubits = 5; \n",
    "    \n",
    "    // allocate the qubit register containing numQubits. \n",
    "    using (qubitRegister = Qubit[numQubits]) {\n",
    "        \n",
    "        // call the function to check ensure the size of our register contains < than 5 qubits.\n",
    "        CheckRegisterSize(qubitRegister); \n",
    "        \n",
    "        // release the qubits. \n",
    "        ResetAll(qubitRegister); \n",
    "    }\n",
    "}"
   ]
  },
  {
   "cell_type": "markdown",
   "metadata": {},
   "source": [
    "Run the simulate cell to execute the operation above. Recall the empty-tuple () means the operation executed without failure. "
   ]
  },
  {
   "cell_type": "code",
   "execution_count": 22,
   "metadata": {},
   "outputs": [
    {
     "data": {
      "application/json": "{\"@type\":\"tuple\"}",
      "text/plain": [
       "()"
      ]
     },
     "execution_count": 22,
     "metadata": {},
     "output_type": "execute_result"
    }
   ],
   "source": [
    "%simulate SimulateCheckRegisterSize"
   ]
  },
  {
   "cell_type": "markdown",
   "metadata": {},
   "source": [
    "After you have successfully ran the cell above and seen the empty-tuple () displayed, try triggering the failure by changing the value of numQubits, in the SimulateCheckRegisterSize operation, to an integer greater than 5. "
   ]
  },
  {
   "cell_type": "markdown",
   "metadata": {},
   "source": [
    "### <span style=\"color:blue\">Example 7</span>: Using Fact"
   ]
  },
  {
   "cell_type": "markdown",
   "metadata": {},
   "source": [
    "We can also apply the built-in [**Fact**](https://docs.microsoft.com/en-us/qsharp/api/qsharp/microsoft.quantum.diagnostics.fact) function from the Diagnostics namespace. Below we will look at an example of how to accomplish the same task above using this functon directly within the body of an operation.\n",
    "\n",
    "it will work in the following steps:   \n",
    "1. Set the numQubits indicating the number of qubits we want to simulate.\n",
    "2. Set a variable indicating the max size our register can be.\n",
    "3. Allocate numQubits. \n",
    "4. Execute the Fact function to raise a fail if the condition given is false. \n",
    "5. Release all the qubits."
   ]
  },
  {
   "cell_type": "code",
   "execution_count": 23,
   "metadata": {},
   "outputs": [
    {
     "data": {
      "application/json": "[\"TestRegisterSizeLimit\"]",
      "text/html": [
       "<ul><li>TestRegisterSizeLimit</li></ul>"
      ],
      "text/plain": [
       "TestRegisterSizeLimit"
      ]
     },
     "execution_count": 23,
     "metadata": {},
     "output_type": "execute_result"
    }
   ],
   "source": [
    "// open the Core namespace to access the Length function\n",
    "open Microsoft.Quantum.Core;\n",
    "// open the Diagnostics namespace to access the fact functions\n",
    "open Microsoft.Quantum.Diagnostics;\n",
    "\n",
    "operation TestRegisterSizeLimit () : Unit {\n",
    "    \n",
    "    // select the number of qubits we want to simulate.\n",
    "    let numQubits = 5;\n",
    "    // select the max size our register can be. \n",
    "    let maxRegisterSize = 5; \n",
    "    \n",
    "    using (qubitRegister = Qubit[numQubits]) {\n",
    "    \n",
    "        // note that only if the condition is false, then the failure will occur.\n",
    "        Fact(Length(qubitRegister) <= maxRegisterSize, \"The qubit register is too large, the register should contain no more than 5 qubits.\");\n",
    "        \n",
    "        // Release the qubit.\n",
    "        ResetAll(qubitRegister); \n",
    "    }\n",
    "}"
   ]
  },
  {
   "cell_type": "code",
   "execution_count": 24,
   "metadata": {},
   "outputs": [
    {
     "data": {
      "application/json": "{\"@type\":\"tuple\"}",
      "text/plain": [
       "()"
      ]
     },
     "execution_count": 24,
     "metadata": {},
     "output_type": "execute_result"
    }
   ],
   "source": [
    "%simulate TestRegisterSizeLimit"
   ]
  },
  {
   "cell_type": "markdown",
   "metadata": {},
   "source": [
    "Try playing with both the numQubits and maxRegisterSize values. Try answering the question: \"How does the condition passed into the Fact function differ from using a regular if condition?\" *Hint: read the comments in the operation body*.  \n",
    "\n",
    "The full list of fact-type functions are found [here](https://docs.microsoft.com/en-us/qsharp/api/qsharp/microsoft.quantum.diagnostics#functions)"
   ]
  },
  {
   "cell_type": "markdown",
   "metadata": {},
   "source": [
    "## Dump Functions  \n",
    "\n",
    "At this stage, you have already been introduced to how dump functions work. The *DumpMachine*, an example of a dump function, was introduced in the Qubit tutorial. The key point is Q# Diagnostics namespace helps us troubleshoot our quantum programs by offering two functions, [**DumpMachine**](https://docs.microsoft.com/en-us/qsharp/api/qsharp/microsoft.quantum.diagnostics.dumpmachine) and [**DumpRegister**](https://docs.microsoft.com/en-us/qsharp/api/qsharp/microsoft.quantum.diagnostics.dumpregister). These two functions dump the current state of our system into a file. \n",
    "\n",
    "Here we will look at an example of the DumpRegister. The structure of the information written to the dump is identical to that seen with the DumpMachine ([see the Qubit tutorial section on DumpMachine](../Qubit/Qubit.ipynb)). The difference is, DumpRegister allows us to selectively choose which qubits are placed in the dump.  Let's take a look at an example. "
   ]
  },
  {
   "cell_type": "markdown",
   "metadata": {},
   "source": [
    "### <span style=\"color:blue\">Example 8</span>: The DumpRegister\n",
    "\n",
    "**Input:** A qubit register containing two qubits in the |00> state. \n",
    "\n",
    "**Goal:** Create the seperable state, $|\\psi\\rangle = \\frac{1}{2}(|00\\rangle + i|01\\rangle + i|10\\rangle + |11\\rangle$.\n",
    "\n",
    "**NOTE:** For this example, navigate to your \"C:\" folder and create a folder called \"Quantum_DumpRegister\"."
   ]
  },
  {
   "cell_type": "code",
   "execution_count": 25,
   "metadata": {},
   "outputs": [
    {
     "data": {
      "application/json": "[\"CreateSeperableState\"]",
      "text/html": [
       "<ul><li>CreateSeperableState</li></ul>"
      ],
      "text/plain": [
       "CreateSeperableState"
      ]
     },
     "execution_count": 25,
     "metadata": {},
     "output_type": "execute_result"
    }
   ],
   "source": [
    "open Microsoft.Quantum.Diagnostics; \n",
    "\n",
    "// TODO: Create example using DumpRegister\n",
    "operation CreateSeperableState () : Unit {\n",
    "\n",
    "    // allocate two qubits\n",
    "    using (qubits = Qubit[2]) {\n",
    "    \n",
    "        // create the desired seperable state. \n",
    "        ApplyToEachA(H, qubits); \n",
    "        ApplyToEachA(S, qubits); \n",
    "        \n",
    "       // identify the location to store the qubit#.txt files.\n",
    "       // manually navigate to your C folder and create the Quantum_DumpRegister folder\n",
    "       let filepath_q1q2 = \"C:\\Quantum_DumpRegister\\q1q2.txt\";\n",
    "       let filepath_q1 = \"C:\\Quantum_DumpRegister\\qubit1.txt\";\n",
    "       let filepath_q2 = \"C:\\Quantum_DumpRegister\\qubit2.txt\";\n",
    "       \n",
    "       // pass the location to save the file, and the qubit(s) you want to observe.\n",
    "       // note that arrays are inclusive of the max index given. \n",
    "       // in this case, we passed in both the 0th and 1st element in the register.\n",
    "       DumpRegister(filepath_q1q2, qubits[0 .. 1]); \n",
    "       \n",
    "       // check the state of just the first qubit. \n",
    "       DumpRegister(filepath_q1, [qubits[0]]); \n",
    "       \n",
    "       // check the state of just the second qubit. \n",
    "       DumpRegister(filepath_q2, [qubits[1]]); \n",
    "       \n",
    "       // release all the qubits.\n",
    "       ResetAll(qubits); \n",
    "    }\n",
    "}"
   ]
  },
  {
   "cell_type": "code",
   "execution_count": 26,
   "metadata": {},
   "outputs": [
    {
     "data": {
      "application/json": "{\"@type\":\"tuple\"}",
      "text/plain": [
       "()"
      ]
     },
     "execution_count": 26,
     "metadata": {},
     "output_type": "execute_result"
    }
   ],
   "source": [
    "%simulate CreateSeperableState"
   ]
  },
  {
   "cell_type": "markdown",
   "metadata": {},
   "source": [
    "Once you've run the simulation cell above, navigate to the \"C:\\Quantum_DumpRegister\\\" folder. You will see the following: \n",
    "\n",
    "* that we have written the entire state of the two qubits to the q1q2.txt.\n",
    "* the state of just qubit one to the q1.txt.  \n",
    "* the state of qubit2 to the q2.txt.   \n",
    "\n",
    "These files visually prove we correctly created the desired state. The tensor product of qubit one and qubit two give the result shown in q1q2.txt. In the case that the qubits are entangled, DumpRegister outputs a message stating the qubit(s) you are interested is entangled with another."
   ]
  },
  {
   "cell_type": "markdown",
   "metadata": {},
   "source": [
    "Congrats! Now that you've had a chance to familiarize yourself with important tools for testing operations, we can move on to the exercises!"
   ]
  },
  {
   "cell_type": "markdown",
   "metadata": {},
   "source": [
    "## Exercises\n",
    "\n",
    "The following exercises are designed to test your understanding of the concepts you've learned so far. \n",
    "In each exercise your task is to implement an operation for each Task. You will have to allocate the qubits, and if necessary, put the qubit register into a certain initial state. Also be mindful of the Requirement(s) of each task. \n",
    "Spend at least 20 minutes per exercise, before looking at the solutions at the end of each task. Good luck! "
   ]
  },
  {
   "cell_type": "markdown",
   "metadata": {},
   "source": [
    "### <span style=\"color:blue\">Exercise 1</span>: Pauli Measurements  \n",
    "**Task1:** Complete the CreatePauliState operation.\n",
    "\n",
    "**Input:** A qubit register in a state $|00\\rangle$\n",
    "\n",
    "**Goal:** create the state $|\\psi\\rangle = \\frac{1}{\\sqrt{2}}(\\alpha|00\\rangle + \\beta|11\\rangle)$"
   ]
  },
  {
   "cell_type": "code",
   "execution_count": 50,
   "metadata": {},
   "outputs": [
    {
     "data": {
      "application/json": "[\"CreatePauliState\"]",
      "text/html": [
       "<ul><li>CreatePauliState</li></ul>"
      ],
      "text/plain": [
       "CreatePauliState"
      ]
     },
     "execution_count": 50,
     "metadata": {},
     "output_type": "execute_result"
    }
   ],
   "source": [
    "operation CreatePauliState (register: Qubit[]) : Unit {\n",
    "        // ..\n",
    "}"
   ]
  },
  {
   "cell_type": "markdown",
   "metadata": {},
   "source": [
    "> <details>\n",
    "> <summary><b>Click here to see the CreatePauliState solution</b></summary>\n",
    ">    \n",
    ">   operation CreatePauliState (register: Qubit[]) : Unit {    \n",
    ">    \n",
    ">        // place the each qubit in state, (|0> + |1>)/sqrt(2).\n",
    ">         ApplyToEachA(H, register);\n",
    ">\n",
    ">   }  \n",
    "> </details>"
   ]
  },
  {
   "cell_type": "markdown",
   "metadata": {},
   "source": [
    "**Task2:** complete the TestCreatePauliState operation needed to ensure you get the correct state based on what you did in Task1. \n",
    "\n",
    "**Requirements:** \n",
    "* This operation must check that CreatePauliState puts a multiqubit register into the correct state. \n",
    "* The Assertion operation chosen should use the Pauli Measurements. "
   ]
  },
  {
   "cell_type": "code",
   "execution_count": 48,
   "metadata": {},
   "outputs": [
    {
     "data": {
      "application/json": "[\"TestCreatePauliState\"]",
      "text/html": [
       "<ul><li>TestCreatePauliState</li></ul>"
      ],
      "text/plain": [
       "TestCreatePauliState"
      ]
     },
     "execution_count": 48,
     "metadata": {},
     "output_type": "execute_result"
    }
   ],
   "source": [
    "operation TestCreatePauliState () : Unit {\n",
    "    // ...\n",
    "}"
   ]
  },
  {
   "cell_type": "code",
   "execution_count": 49,
   "metadata": {},
   "outputs": [
    {
     "data": {
      "application/json": "{\"@type\":\"tuple\"}",
      "text/plain": [
       "()"
      ]
     },
     "execution_count": 49,
     "metadata": {},
     "output_type": "execute_result"
    }
   ],
   "source": [
    "%simulate TestCreatePauliState"
   ]
  },
  {
   "cell_type": "markdown",
   "metadata": {},
   "source": [
    "> <details>\n",
    ">    \n",
    "> <summary><b>Click here to see the TestTransformThreeQubitState solution</b></summary>\n",
    ">    \n",
    ">   operation TestCreatePauliState () : Unit {\n",
    ">\n",
    ">       // allocate 2 register in the state |0>\n",
    ">       using (register = Qubit[2]) {\n",
    ">            // place register in superposition.            \n",
    ">            CreatePauliState(register);\n",
    "> \n",
    ">             // assert that the PauliX effect on the qubit in superposition will result in the |0> state with a\n",
    ">             // probability success of 1.0 within a 0.0 tolerance. \n",
    ">             AssertProb([PauliX, PauliX], register, Zero, 1.0, \"The qubit does not result in the Zero state given the PauliX effect.\", 0.0);\n",
    ">     \n",
    ">            // message indicates the assertion did not fail.\n",
    ">            Message(\"The CreatePauliState operation ran successfully\");     \n",
    ">    \n",
    ">            // Reset all qubits to the |000> state.\n",
    ">            ResetAll(register);   \n",
    ">       }\n",
    ">   }\n",
    "> </details>    "
   ]
  },
  {
   "cell_type": "markdown",
   "metadata": {},
   "source": [
    "### <span style=\"color:blue\">Exercise 2</span>: Create a Test with Fact \n",
    "\n",
    "**Task1:** complete the TransformThreeQubitState operation.   \n",
    "\n",
    "**Input:** A qubit in the state $|\\psi\\rangle = \\frac{1}{\\sqrt{2}}(|000\\rangle + |100\\rangle)$.\n",
    "\n",
    "**Goal:** Transform the given state into $\\frac{1}{\\sqrt{2}}(i|100\\rangle - i|000\\rangle)$.\n",
    "\n",
    "**Addition Requirement:** Include a Fact condition to ensure the register given does not contain more than three qubits."
   ]
  },
  {
   "cell_type": "code",
   "execution_count": 27,
   "metadata": {},
   "outputs": [
    {
     "data": {
      "application/json": "[\"TransformThreeQubitState\"]",
      "text/html": [
       "<ul><li>TransformThreeQubitState</li></ul>"
      ],
      "text/plain": [
       "TransformThreeQubitState"
      ]
     },
     "execution_count": 27,
     "metadata": {},
     "output_type": "execute_result"
    }
   ],
   "source": [
    "// open the Core namespace to access the Length function\n",
    "open Microsoft.Quantum.Core;\n",
    "// open the diagnositcs namespace to access the Fact function\n",
    "open Microsoft.Quantum.Diagnostics; \n",
    "\n",
    "operation TransformThreeQubitState(qubitRegister : Qubit[]) : Unit is Adj+Ctl {\n",
    "   // ... \n",
    "}"
   ]
  },
  {
   "cell_type": "markdown",
   "metadata": {},
   "source": [
    "> <details>\n",
    "> <summary><b>Click here to see the TransformThreeQubitState solution</b></summary>\n",
    ">\n",
    ">   operation TransformThreeQubitState(qubitRegister : Qubit[]) : Unit is Adj+Ctl {    \n",
    ">\n",
    ">        // if the qubitRegister has more than 3 qubits, raise the fail.\n",
    ">         Fact(Length(qubitRegister) <= 3, \"The Register contains more than 3 qubits.\");\n",
    ">                                         \n",
    ">        // apply the y gate to the first qubit gets us (i|100> - i|000>)/sqrt(2)\n",
    ">        Y(qubitRegister[0]);  \n",
    ">\n",
    ">   }  \n",
    "> </details>"
   ]
  },
  {
   "cell_type": "markdown",
   "metadata": {},
   "source": [
    "**Task2:** complete the TestTransformThreeQubitState operation needed to ensure you get the correct state based on what you did in Task1. \n",
    "\n",
    "**Requirements:** \n",
    "* This operation must check that TransformThreeQubitState puts a three qubit into the correct state. "
   ]
  },
  {
   "cell_type": "code",
   "execution_count": 28,
   "metadata": {},
   "outputs": [
    {
     "data": {
      "application/json": "[\"TestTransformThreeQubitState\"]",
      "text/html": [
       "<ul><li>TestTransformThreeQubitState</li></ul>"
      ],
      "text/plain": [
       "TestTransformThreeQubitState"
      ]
     },
     "execution_count": 28,
     "metadata": {},
     "output_type": "execute_result"
    }
   ],
   "source": [
    "// get access to the Complex datatype\n",
    "open Microsoft.Quantum.Math;\n",
    "open Microsoft.Quantum.Diagnostics;\n",
    "\n",
    "operation TestTransformThreeQubitState () : Unit {\n",
    "    // ...\n",
    "}"
   ]
  },
  {
   "cell_type": "code",
   "execution_count": 29,
   "metadata": {},
   "outputs": [
    {
     "data": {
      "application/json": "{\"@type\":\"tuple\"}",
      "text/plain": [
       "()"
      ]
     },
     "execution_count": 29,
     "metadata": {},
     "output_type": "execute_result"
    }
   ],
   "source": [
    "%simulate TestTransformThreeQubitState"
   ]
  },
  {
   "cell_type": "markdown",
   "metadata": {},
   "source": [
    "> <details>\n",
    ">    \n",
    "> <summary><b>Click here to see the TestTransformThreeQubitState solution</b></summary>\n",
    ">    \n",
    ">   operation TestTransformThreeQubitState () : Unit {\n",
    ">\n",
    ">       // allocate 3 qubits in the |000> state\n",
    ">       using (qubitRegister = Qubit[3]) {\n",
    ">            // prepare the register in the state (|000> + |100>)/sqrt(2).            \n",
    ">            H(qubitRegister[0]);\n",
    "> \n",
    ">            // create the quantum state (i|100> - i|000>)/sqrt(2).\n",
    ">            TransformThreeQubitState(qubitRegister); \n",
    ">\n",
    ">            // ensure we've created the state (i|100> - i|000>)/sqrt(2).\n",
    ">            AssertQubitIsInStateWithinTolerance((Complex(0., 0.707), Complex(0., -0.707)), qubitRegister[0],1e-3);  \n",
    "> \n",
    ">            // message indicates the assertion did not fail.\n",
    ">            Message(\"The TransformThreeQubitState operation ran successfully\");     \n",
    ">    \n",
    ">            // Reset all qubits to the |000> state.\n",
    ">            ResetAll(qubitRegister);   \n",
    ">       }\n",
    ">   }\n",
    "> </details>    "
   ]
  },
  {
   "cell_type": "markdown",
   "metadata": {},
   "source": [
    "**Task3:** complete the TestTestTransformThreeQubitStateFact operation to check that the Fact assertion you added in the\n",
    "TransformThreeQubitState operation is raised. \n",
    "\n",
    "**Requirements:** \n",
    "* This operation must trigger Fact condition the TransformThreeQubitState.  Note that when you run this test, you should get a red box appearing with the error message you used in your fact function."
   ]
  },
  {
   "cell_type": "code",
   "execution_count": 30,
   "metadata": {},
   "outputs": [
    {
     "data": {
      "application/json": "[\"TestTransformThreeQubitStateFact\"]",
      "text/html": [
       "<ul><li>TestTransformThreeQubitStateFact</li></ul>"
      ],
      "text/plain": [
       "TestTransformThreeQubitStateFact"
      ]
     },
     "execution_count": 30,
     "metadata": {},
     "output_type": "execute_result"
    }
   ],
   "source": [
    "operation TestTransformThreeQubitStateFact () : Unit {\n",
    "    // ...\n",
    "}"
   ]
  },
  {
   "cell_type": "code",
   "execution_count": 35,
   "metadata": {},
   "outputs": [
    {
     "data": {
      "application/json": "{\"@type\":\"tuple\"}",
      "text/plain": [
       "()"
      ]
     },
     "execution_count": 35,
     "metadata": {},
     "output_type": "execute_result"
    }
   ],
   "source": [
    "%simulate TestTransformThreeQubitStateFact"
   ]
  },
  {
   "cell_type": "markdown",
   "metadata": {},
   "source": [
    "> <details>\n",
    ">    \n",
    "> <summary><b>Click here to see the TestTransformThreeQubitState solution</b></summary>\n",
    ">    \n",
    ">   operation TestTestTransformThreeQubitStateFact () : Unit {\n",
    ">\n",
    ">       // allocate 4 qubits in the |0000> state\n",
    ">       using (qubitRegister = Qubit[4]) {\n",
    ">            // prepare the register in the state (|0000> + |1000>)/sqrt(2).            \n",
    ">            H(qubitRegister[0]);\n",
    "> \n",
    ">            // create the quantum state (i|1000> - i|0000>)/sqrt(2).\n",
    ">            TransformThreeQubitState(qubitRegister); \n",
    ">\n",
    ">            // message indicates the assertion did not fail.\n",
    ">            Message(\"If you see this message, then you Fact function failed to catch the error. The qubit register contains more than 3 qubits.\");     \n",
    ">    \n",
    ">            // Reset all qubits to the |0000> state.\n",
    ">            ResetAll(qubitRegister);   \n",
    ">       }\n",
    ">   }\n",
    "> </details>    "
   ]
  },
  {
   "cell_type": "markdown",
   "metadata": {},
   "source": [
    "## Conclusion\n",
    "\n",
    "Congratulations! Now that you have gone through this notebook on building unit tests, you should have a good idea of the tools available to you in Q# to build more complicated tests. Now, you are are neither a pro at building unit test, nor are you an amature, rather you are in a superposition of both states. Have fun explore Quantum! (:  "
   ]
  }
 ],
 "metadata": {
  "kernelspec": {
   "display_name": "Q#",
   "language": "qsharp",
   "name": "iqsharp"
  },
  "language_info": {
   "file_extension": ".qs",
   "mimetype": "text/x-qsharp",
   "name": "qsharp",
   "version": "0.4"
  }
 },
 "nbformat": 4,
 "nbformat_minor": 2
}
